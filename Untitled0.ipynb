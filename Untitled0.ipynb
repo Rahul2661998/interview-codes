{
  "nbformat": 4,
  "nbformat_minor": 0,
  "metadata": {
    "colab": {
      "name": "Untitled0.ipynb",
      "provenance": [],
      "collapsed_sections": [],
      "authorship_tag": "ABX9TyM4vh8yoIjd/JBUU+yEnTGP",
      "include_colab_link": true
    },
    "kernelspec": {
      "name": "python3",
      "display_name": "Python 3"
    },
    "language_info": {
      "name": "python"
    }
  },
  "cells": [
    {
      "cell_type": "markdown",
      "metadata": {
        "id": "view-in-github",
        "colab_type": "text"
      },
      "source": [
        "<a href=\"https://colab.research.google.com/github/Rahul2661998/interview-codes/blob/main/Untitled0.ipynb\" target=\"_parent\"><img src=\"https://colab.research.google.com/assets/colab-badge.svg\" alt=\"Open In Colab\"/></a>"
      ]
    },
    {
      "cell_type": "markdown",
      "source": [
        "#Insertion sort\n",
        "##Time complexity \n",
        "###best case:O(n)\n",
        "###Worst case O(n^2)\n",
        "###Stable\n",
        "###Inplace"
      ],
      "metadata": {
        "id": "gS-rDRLXlQIb"
      }
    },
    {
      "cell_type": "code",
      "execution_count": null,
      "metadata": {
        "id": "e4e-eFOGHWZL"
      },
      "outputs": [],
      "source": [
        "A=[8,2,9,9,3,4,7,2,1,5]"
      ]
    },
    {
      "cell_type": "code",
      "source": [
        "for i in range(1,len(A)):\n",
        "  curr=A[i]\n",
        "  j=i-1\n",
        "  while A[j]>curr and j>=0:\n",
        "    A[j+1]=A[j]\n",
        "    j=j-1\n",
        "  A[j+1]=curr\n",
        "print(A)\n",
        "  \n"
      ],
      "metadata": {
        "colab": {
          "base_uri": "https://localhost:8080/"
        },
        "id": "W-22eZYyHlAP",
        "outputId": "da21e505-a096-4b2b-db9f-78bbea386010"
      },
      "execution_count": null,
      "outputs": [
        {
          "output_type": "stream",
          "name": "stdout",
          "text": [
            "[1, 2, 2, 3, 4, 5, 7, 8, 9, 9]\n"
          ]
        }
      ]
    },
    {
      "cell_type": "markdown",
      "source": [
        "#Merge sort\n",
        "###time complexity:O(nlogn)\n",
        "###stable,out of line\n",
        "###space complexity O(n)"
      ],
      "metadata": {
        "id": "GwkwJsWHGyFd"
      }
    },
    {
      "cell_type": "code",
      "source": [
        "def merge_sort(list_):\n",
        "  if len(list_)>1:\n",
        "    left=list_[:len(list_)//2]\n",
        "    right=list_[len(list_)//2:]\n",
        "    #divide\n",
        "    merge_sort(left)\n",
        "    merge_sort(right)\n",
        "    #merging\n",
        "    i=0 # pointer for left\n",
        "    j=0 # pointer for right\n",
        "    k=0 # pointer for join_\n",
        "    while i<len(left) and j<len(right):\n",
        "      if left[i]<right[j]:\n",
        "        list_[k]=left[i]\n",
        "        i+=1\n",
        "      else:\n",
        "        list_[k]=right[j]\n",
        "        j+=1\n",
        "      k+=1\n",
        "    while i<len(left):\n",
        "      list_[k]=left[i]\n",
        "      i+=1\n",
        "      k+=1\n",
        "    while j<len(right):\n",
        "      list_[k]=right[j]\n",
        "      j+=1\n",
        "      k+=1\n",
        "    return list_"
      ],
      "metadata": {
        "id": "_-kw45g6Gw9C"
      },
      "execution_count": null,
      "outputs": []
    },
    {
      "cell_type": "code",
      "source": [
        "print(A)\n",
        "print(merge_sort(A))"
      ],
      "metadata": {
        "colab": {
          "base_uri": "https://localhost:8080/"
        },
        "id": "RL-_CdbwKdUH",
        "outputId": "db12ea1b-2955-44cb-edab-db7f9a05f0d2"
      },
      "execution_count": null,
      "outputs": [
        {
          "output_type": "stream",
          "name": "stdout",
          "text": [
            "[8, 2, 9, 9, 3, 4, 7, 2, 1, 5]\n",
            "[1, 2, 2, 3, 4, 5, 7, 8, 9, 9]\n"
          ]
        }
      ]
    },
    {
      "cell_type": "markdown",
      "source": [
        "#quick sort\n",
        "##worst case:O(n^2)\n",
        "##unstable\n",
        "##out of line"
      ],
      "metadata": {
        "id": "nXJgqhkAXcAG"
      }
    },
    {
      "cell_type": "code",
      "source": [
        "def partition(left,right,list_):\n",
        "  pivot=list_[left]\n",
        "  index_smaller=left\n",
        "  for j in range(left+1,len(list_)):\n",
        "    if list_[j]<pivot:\n",
        "      index_smaller+=1\n",
        "      temp=list_[index_smaller]\n",
        "      list_[index_smaller]=list_[j]\n",
        "      list_[j]=temp\n",
        "  list_[left]=list_[index_smaller]\n",
        "  list_[index_smaller]=pivot\n",
        "  return index_smaller"
      ],
      "metadata": {
        "id": "TDxl6D1WtBrF"
      },
      "execution_count": null,
      "outputs": []
    },
    {
      "cell_type": "code",
      "source": [
        "def quick_sort(left,right,list_):\n",
        "  if len(list_)==1:\n",
        "    return list_\n",
        "  if left<right:\n",
        "    pivot_index=partition(left,right,list_)\n",
        "    quick_sort(left,pivot_index-1,list_)\n",
        "    quick_sort(pivot_index+1,right,list_)\n",
        "  return list_"
      ],
      "metadata": {
        "id": "2zpJwl7Nv8ld"
      },
      "execution_count": null,
      "outputs": []
    },
    {
      "cell_type": "code",
      "source": [
        "print(quick_sort(0,len(A)-1,A))"
      ],
      "metadata": {
        "colab": {
          "base_uri": "https://localhost:8080/"
        },
        "id": "TsNpTMU9wB4D",
        "outputId": "6fb2f2c9-76c2-48c9-a20f-54136393a76b"
      },
      "execution_count": null,
      "outputs": [
        {
          "output_type": "stream",
          "name": "stdout",
          "text": [
            "[1, 2, 2, 3, 4, 5, 7, 8, 9, 9]\n"
          ]
        }
      ]
    },
    {
      "cell_type": "markdown",
      "source": [
        "#Selection sort"
      ],
      "metadata": {
        "id": "yAz-vhMSGIM6"
      }
    },
    {
      "cell_type": "code",
      "source": [
        "def selection_sort(list_):\n",
        "  \n",
        "  for i in range(0,len(list_)):\n",
        "    min=i\n",
        "    for j in range(i+1,len(list_)):\n",
        "      if list_[j]<list_[min]:\n",
        "        min=j\n",
        "    if min!=i:\n",
        "      temp=list_[i]\n",
        "      list_[i]=list_[min]\n",
        "      list_[min]=temp\n",
        "\n",
        "  return list_\n"
      ],
      "metadata": {
        "id": "1ZjX_KCh4rJl"
      },
      "execution_count": null,
      "outputs": []
    },
    {
      "cell_type": "code",
      "source": [
        "A=[8,2,9,9,3,4,7,2,1,5]"
      ],
      "metadata": {
        "id": "9HVHLLv0LrrD"
      },
      "execution_count": null,
      "outputs": []
    },
    {
      "cell_type": "code",
      "source": [
        "print(A)\n",
        "print(selection_sort(A))\n"
      ],
      "metadata": {
        "colab": {
          "base_uri": "https://localhost:8080/"
        },
        "id": "1nucJUhFKqEc",
        "outputId": "4f222356-2957-49e1-a888-a044ea1a9639"
      },
      "execution_count": null,
      "outputs": [
        {
          "output_type": "stream",
          "name": "stdout",
          "text": [
            "[1, 2, 2, 3, 4, 5, 7, 8, 9, 9]\n",
            "[1, 2, 2, 3, 4, 5, 7, 8, 9, 9]\n"
          ]
        }
      ]
    },
    {
      "cell_type": "markdown",
      "source": [
        "#Counting Sort"
      ],
      "metadata": {
        "id": "vBCQWraAwnyP"
      }
    },
    {
      "cell_type": "code",
      "source": [
        "def counting_sort(list_,max):\n",
        "  arr=[0]*(max+1)\n",
        "  output=[0]*len(list_)\n",
        "  print(arr)\n",
        "  print(output)\n",
        "  for j in range(0,len(list_)):\n",
        "    arr[list_[j]]+=1\n",
        "  print(arr)\n",
        "  for i in range(1,len(arr)):\n",
        "    arr[i]=arr[i]+arr[i-1]\n",
        "  print(arr)\n",
        "  for ele in list_[::-1]:\n",
        "    arr[ele]-=1\n",
        "    output[arr[ele]]=ele\n",
        "  print(output)\n"
      ],
      "metadata": {
        "id": "8ps4o_ipK36S"
      },
      "execution_count": null,
      "outputs": []
    },
    {
      "cell_type": "code",
      "source": [
        "A=[8,2,9,9,3,4,7,2,1,5]\n",
        "counting_sort(A,9)"
      ],
      "metadata": {
        "colab": {
          "base_uri": "https://localhost:8080/"
        },
        "id": "OI8rmRS2y0EN",
        "outputId": "47f21987-81b7-4414-9e99-4b2be902bfc0"
      },
      "execution_count": null,
      "outputs": [
        {
          "output_type": "stream",
          "name": "stdout",
          "text": [
            "[0, 0, 0, 0, 0, 0, 0, 0, 0, 0]\n",
            "[0, 0, 0, 0, 0, 0, 0, 0, 0, 0]\n",
            "[0, 1, 2, 1, 1, 1, 0, 1, 1, 2]\n",
            "[0, 1, 3, 4, 5, 6, 6, 7, 8, 10]\n",
            "[1, 2, 2, 3, 4, 5, 7, 8, 9, 9]\n"
          ]
        }
      ]
    },
    {
      "cell_type": "code",
      "source": [
        "def flippingBits(n):\n",
        "    # Write your code here\n",
        "    temp=n\n",
        "    bits=[]\n",
        "    index=0\n",
        "    print(len(bits))\n",
        "    while(temp or len(bits)<32):\n",
        "      \n",
        "      bits.append(temp%2)\n",
        "      temp=int(temp/2)\n",
        "    bits=bits[::-1]\n",
        "    print(bits)\n",
        "    print(len(bits))\n",
        "    for i in range(32):\n",
        "        bits[i]=bits[i]^1\n",
        "    print(bits)\n",
        "    print(len(bits))\n",
        "    exp=31\n",
        "    total=0\n",
        "    for item in bits:\n",
        "        total=total+item*2**exp\n",
        "        exp-=1\n",
        "    return total"
      ],
      "metadata": {
        "id": "U-DRS-ZPy7Wr"
      },
      "execution_count": null,
      "outputs": []
    },
    {
      "cell_type": "code",
      "source": [
        "flippingBits(1)"
      ],
      "metadata": {
        "colab": {
          "base_uri": "https://localhost:8080/"
        },
        "id": "2IUSiRu6LoHe",
        "outputId": "e69b0f4e-baf9-4afc-c4f3-3f574aa1074c"
      },
      "execution_count": null,
      "outputs": [
        {
          "output_type": "stream",
          "name": "stdout",
          "text": [
            "0\n",
            "[0, 0, 0, 0, 0, 0, 0, 0, 0, 0, 0, 0, 0, 0, 0, 0, 0, 0, 0, 0, 0, 0, 0, 0, 0, 0, 0, 0, 0, 0, 0, 1]\n",
            "32\n",
            "[1, 1, 1, 1, 1, 1, 1, 1, 1, 1, 1, 1, 1, 1, 1, 1, 1, 1, 1, 1, 1, 1, 1, 1, 1, 1, 1, 1, 1, 1, 1, 0]\n",
            "32\n"
          ]
        },
        {
          "output_type": "execute_result",
          "data": {
            "text/plain": [
              "4294967294"
            ]
          },
          "metadata": {},
          "execution_count": 53
        }
      ]
    },
    {
      "cell_type": "code",
      "source": [
        "A=[2,1,3]\n",
        "B=[7,8,9]\n",
        "k=10"
      ],
      "metadata": {
        "id": "U3I86ZGBzHZx"
      },
      "execution_count": null,
      "outputs": []
    },
    {
      "cell_type": "code",
      "source": [
        "def twoArrays(k, A, B):\n",
        "    # Write your code her\n",
        "    A_n=sorted(A)\n",
        "    B_n=sorted(B,reverse=True)\n",
        "    print(A_n)\n",
        "    print(B_n)\n",
        "    for i,ele in enumerate(A_n):\n",
        "        if ele!=B_n[i]:\n",
        "        \n",
        "            return 'NO'\n",
        "    return 'YES'\n"
      ],
      "metadata": {
        "id": "NAF7Mrqz6Atg"
      },
      "execution_count": null,
      "outputs": []
    },
    {
      "cell_type": "code",
      "source": [
        "twoArrays(k,A,B)"
      ],
      "metadata": {
        "colab": {
          "base_uri": "https://localhost:8080/",
          "height": 70
        },
        "id": "sqvXAuMs6Mt_",
        "outputId": "bc6f0cb4-1b35-4604-9156-ef5fed4bf90c"
      },
      "execution_count": null,
      "outputs": [
        {
          "output_type": "stream",
          "name": "stdout",
          "text": [
            "[1, 2, 3]\n",
            "[9, 8, 7]\n"
          ]
        },
        {
          "output_type": "execute_result",
          "data": {
            "text/plain": [
              "'NO'"
            ],
            "application/vnd.google.colaboratory.intrinsic+json": {
              "type": "string"
            }
          },
          "metadata": {},
          "execution_count": 5
        }
      ]
    },
    {
      "cell_type": "code",
      "source": [
        "a=[1,2,34,4]\n",
        "a.insert()"
      ],
      "metadata": {
        "id": "Aob1E3k5W1JP"
      },
      "execution_count": null,
      "outputs": []
    },
    {
      "cell_type": "code",
      "source": [
        "def caesarCipher(s, k):\n",
        "    # Write your code here\n",
        "    final=''\n",
        "    comstring='abcdefghijklmnopqrstuvwxyz'\n",
        "    cap_srt=comstring.upper()\n",
        "    n=k%26\n",
        "    for char in s:\n",
        "      if char in comstring:\n",
        "          abc=comstring.find(char)\n",
        "          un=(abc+k)%26\n",
        "          final=final+comstring[un]\n",
        "      elif char in cap_srt:\n",
        "          ABC=cap_srt.find(char)\n",
        "          final=final+cap_srt[ABC+n]\n",
        "      else:\n",
        "            final=final+char\n",
        "    return final  "
      ],
      "metadata": {
        "id": "akl3WkTk1Pwx"
      },
      "execution_count": null,
      "outputs": []
    },
    {
      "cell_type": "code",
      "source": [
        "caesarCipher('middle-Outz',2)"
      ],
      "metadata": {
        "colab": {
          "base_uri": "https://localhost:8080/",
          "height": 35
        },
        "id": "02COGS7rAi9R",
        "outputId": "de5330b3-ead5-4f98-bffe-5b0328567235"
      },
      "execution_count": null,
      "outputs": [
        {
          "output_type": "execute_result",
          "data": {
            "text/plain": [
              "'okffng-Qwvb'"
            ],
            "application/vnd.google.colaboratory.intrinsic+json": {
              "type": "string"
            }
          },
          "metadata": {},
          "execution_count": 49
        }
      ]
    },
    {
      "cell_type": "code",
      "source": [
        "def maxMin(k, arr):\n",
        "    # Write your code here\n",
        "    arr.sort()\n",
        "    min_=arr[-1]\n",
        "    n=len(arr)\n",
        "    print(n)\n",
        "    for i in range(n-(k-1)):\n",
        "        print(i)\n",
        "        min_=min(min_,arr[k-1+i]-arr[i])\n",
        "    return min_"
      ],
      "metadata": {
        "id": "l3rV_pcjVyiA"
      },
      "execution_count": null,
      "outputs": []
    },
    {
      "cell_type": "code",
      "source": [
        "maxMin(3,[100,200,300,350,400,401,402])"
      ],
      "metadata": {
        "colab": {
          "base_uri": "https://localhost:8080/"
        },
        "id": "Zp2W12MzKgPR",
        "outputId": "752b8145-c56d-43b8-a2ee-e6f4a1c7b92d"
      },
      "execution_count": null,
      "outputs": [
        {
          "output_type": "stream",
          "name": "stdout",
          "text": [
            "7\n",
            "0\n",
            "1\n",
            "2\n",
            "3\n",
            "4\n"
          ]
        },
        {
          "output_type": "execute_result",
          "data": {
            "text/plain": [
              "2"
            ]
          },
          "metadata": {},
          "execution_count": 59
        }
      ]
    },
    {
      "cell_type": "code",
      "source": [
        "def dynamicArray(n, queries):\n",
        "    # Write your code here\n",
        "    arr=[[] for i in range(n)]\n",
        "    lastAnswer=0\n",
        "    ans=[]\n",
        "    for qu in queries:\n",
        "        if qu[0]=='1':\n",
        "            idx=(int(qu[1])^lastAnswer)%n\n",
        "            arr[idx].append(int(qu[2]))\n",
        "        elif qu[0]=='2':\n",
        "            idx=(int(qu[1])^lastAnswer)%n\n",
        "            lastAnswer=arr[idx][int(qu[2])%len(arr[idx])]\n",
        "            ans.append(lastAnswer)\n",
        "    return ans"
      ],
      "metadata": {
        "id": "Rie6noGjaGqP"
      },
      "execution_count": null,
      "outputs": []
    },
    {
      "cell_type": "code",
      "source": [
        "s=['105','117','103','210','211']\n",
        "dynamicArray(2,s)"
      ],
      "metadata": {
        "colab": {
          "base_uri": "https://localhost:8080/"
        },
        "id": "jTcKLVRGLo-o",
        "outputId": "a3f18bf7-308e-4efc-9035-28c1b9725708"
      },
      "execution_count": null,
      "outputs": [
        {
          "output_type": "execute_result",
          "data": {
            "text/plain": [
              "[7, 3]"
            ]
          },
          "metadata": {},
          "execution_count": 73
        }
      ]
    },
    {
      "cell_type": "code",
      "source": [
        "type(int('2'))"
      ],
      "metadata": {
        "colab": {
          "base_uri": "https://localhost:8080/"
        },
        "id": "pWqeV2tdbMMI",
        "outputId": "bd9e2a09-d64f-4b01-a464-435f8616db88"
      },
      "execution_count": null,
      "outputs": [
        {
          "output_type": "execute_result",
          "data": {
            "text/plain": [
              "int"
            ]
          },
          "metadata": {},
          "execution_count": 64
        }
      ]
    },
    {
      "cell_type": "code",
      "source": [
        "def bomberMan(n, grid):\n",
        "    # Write your code here\n",
        "    r=len(grid)\n",
        "    c=len(grid[0])\n",
        "    if n==1:\n",
        "        return grid\n",
        "    if n%2==0:\n",
        "        return ['O'*c for i in range(r)]\n",
        "    n=n//2\n",
        "    for q in range((n+1)%2+1):\n",
        "        newg=[['O']*c for i in range(r)]\n",
        "        \n",
        "        def detonate(a,b):\n",
        "            if 0<=a<r and 0<=b<c:\n",
        "                newg[a][b]='.'\n",
        "        \n",
        "        i_=[0,0,0,1,-1]\n",
        "        j_=[0,-1,1,0,0]\n",
        "        for x in range(r):\n",
        "            for y in range(c):\n",
        "                    if grid[x][y]=='O':\n",
        "                        print('live')\n",
        "                        for l,m in zip(i_,j_):\n",
        "                          print(l,m)\n",
        "                          detonate(x+l,y+m)\n",
        "        grid=newg\n",
        "    return [\"\".join(w) for w in grid]  \n",
        "bomberMan(3,['.......','...O...','....O..','.......','OO.....','OO.....'])"
      ],
      "metadata": {
        "id": "F60VNWijbOpe",
        "colab": {
          "base_uri": "https://localhost:8080/"
        },
        "outputId": "3eaf942d-090c-434b-d409-1d76f84953b9"
      },
      "execution_count": null,
      "outputs": [
        {
          "output_type": "stream",
          "name": "stdout",
          "text": [
            "live\n",
            "0 0\n",
            "0 -1\n",
            "0 1\n",
            "1 0\n",
            "-1 0\n",
            "live\n",
            "0 0\n",
            "0 -1\n",
            "0 1\n",
            "1 0\n",
            "-1 0\n",
            "live\n",
            "0 0\n",
            "0 -1\n",
            "0 1\n",
            "1 0\n",
            "-1 0\n",
            "live\n",
            "0 0\n",
            "0 -1\n",
            "0 1\n",
            "1 0\n",
            "-1 0\n",
            "live\n",
            "0 0\n",
            "0 -1\n",
            "0 1\n",
            "1 0\n",
            "-1 0\n",
            "live\n",
            "0 0\n",
            "0 -1\n",
            "0 1\n",
            "1 0\n",
            "-1 0\n"
          ]
        },
        {
          "output_type": "execute_result",
          "data": {
            "text/plain": [
              "['OOO.OOO', 'OO...OO', 'OOO...O', '..OO.OO', '...OOOO', '...OOOO']"
            ]
          },
          "metadata": {},
          "execution_count": 2
        }
      ]
    },
    {
      "cell_type": "code",
      "source": [
        "from collections import Counter\n",
        "def validString(s):\n",
        "  d1=Counter(s)\n",
        "  d2=Counter(list(d1.values()))\n",
        "  v=list(d2.keys())\n",
        "  if max(v)==min(v):\n",
        "    return'YES'\n",
        "  elif len(v)<=2 and (max(v)-min(v)==1 and d2[max(v)]==1) or (min(v)==1 and d2[min(v)]==1):\n",
        "    return'YES'\n",
        "  else:\n",
        "    return'NO'"
      ],
      "metadata": {
        "id": "9moLmBiUNXuW"
      },
      "execution_count": null,
      "outputs": []
    },
    {
      "cell_type": "code",
      "source": [
        "validString('abcdefghhgfedecba')"
      ],
      "metadata": {
        "colab": {
          "base_uri": "https://localhost:8080/",
          "height": 35
        },
        "id": "6JeFY-iMP1EQ",
        "outputId": "f85761a8-2ea7-4e47-cd5a-45fdc6b108bd"
      },
      "execution_count": null,
      "outputs": [
        {
          "output_type": "execute_result",
          "data": {
            "text/plain": [
              "'YES'"
            ],
            "application/vnd.google.colaboratory.intrinsic+json": {
              "type": "string"
            }
          },
          "metadata": {},
          "execution_count": 5
        }
      ]
    },
    {
      "cell_type": "markdown",
      "source": [
        "python basics\n"
      ],
      "metadata": {
        "id": "POSpALBDZF3B"
      }
    },
    {
      "cell_type": "code",
      "source": [
        "a=[[1,2],[3.4,5.0,6]]\n",
        "print(sum(a,[]))\n",
        "print(sum(a,[]))\n",
        "\n",
        "# variation\n",
        "print(['123']*5)\n",
        "print(('123')*5)\n",
        "\n",
        "# variation\n",
        "print(set('123'))\n",
        "print(['123'])\n",
        "\n",
        "a={1:\"A\",2:\"B\",3:\"C\"}\n",
        "print(a.get(5,4))\n",
        "print(a)\n",
        "a.get('element_to_search','If not found ')"
      ],
      "metadata": {
        "id": "5ELphowiZJZL",
        "colab": {
          "base_uri": "https://localhost:8080/",
          "height": 174
        },
        "outputId": "cf02c6c1-9ce0-40d5-84b3-46fc91aefce4"
      },
      "execution_count": null,
      "outputs": [
        {
          "output_type": "stream",
          "name": "stdout",
          "text": [
            "[1, 2, 3.4, 5.0, 6]\n",
            "[1, 2, 3.4, 5.0, 6]\n",
            "['123', '123', '123', '123', '123']\n",
            "123123123123123\n",
            "{'2', '3', '1'}\n",
            "['123']\n",
            "4\n",
            "{1: 'A', 2: 'B', 3: 'C'}\n"
          ]
        },
        {
          "output_type": "execute_result",
          "data": {
            "text/plain": [
              "'If not found '"
            ],
            "application/vnd.google.colaboratory.intrinsic+json": {
              "type": "string"
            }
          },
          "metadata": {},
          "execution_count": 7
        }
      ]
    }
  ]
}