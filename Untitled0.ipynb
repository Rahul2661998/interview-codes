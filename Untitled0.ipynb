{
  "nbformat": 4,
  "nbformat_minor": 0,
  "metadata": {
    "colab": {
      "name": "Untitled0.ipynb",
      "provenance": [],
      "collapsed_sections": [],
      "authorship_tag": "ABX9TyPJwMkmLBFSp/jsa7YKZUu1",
      "include_colab_link": true
    },
    "kernelspec": {
      "name": "python3",
      "display_name": "Python 3"
    },
    "language_info": {
      "name": "python"
    }
  },
  "cells": [
    {
      "cell_type": "markdown",
      "metadata": {
        "id": "view-in-github",
        "colab_type": "text"
      },
      "source": [
        "<a href=\"https://colab.research.google.com/github/Rahul2661998/interview-codes/blob/main/Untitled0.ipynb\" target=\"_parent\"><img src=\"https://colab.research.google.com/assets/colab-badge.svg\" alt=\"Open In Colab\"/></a>"
      ]
    },
    {
      "cell_type": "markdown",
      "source": [
        "#Insertion sort\n",
        "##Time complexity \n",
        "###best case:O(n)\n",
        "###Worst case O(n^2)\n",
        "###Stable\n",
        "###Inplace"
      ],
      "metadata": {
        "id": "gS-rDRLXlQIb"
      }
    },
    {
      "cell_type": "code",
      "execution_count": null,
      "metadata": {
        "id": "e4e-eFOGHWZL"
      },
      "outputs": [],
      "source": [
        "A=[8,2,9,9,3,4,7,2,1,5]"
      ]
    },
    {
      "cell_type": "code",
      "source": [
        "for i in range(1,len(A)):\n",
        "  curr=A[i]\n",
        "  j=i-1\n",
        "  while A[j]>curr and j>=0:\n",
        "    A[j+1]=A[j]\n",
        "    j=j-1\n",
        "  A[j+1]=curr\n",
        "print(A)\n",
        "  \n"
      ],
      "metadata": {
        "colab": {
          "base_uri": "https://localhost:8080/"
        },
        "id": "W-22eZYyHlAP",
        "outputId": "da21e505-a096-4b2b-db9f-78bbea386010"
      },
      "execution_count": null,
      "outputs": [
        {
          "output_type": "stream",
          "name": "stdout",
          "text": [
            "[1, 2, 2, 3, 4, 5, 7, 8, 9, 9]\n"
          ]
        }
      ]
    },
    {
      "cell_type": "markdown",
      "source": [
        "#Merge sort\n",
        "###time complexity:O(nlogn)\n",
        "###stable,out of line\n",
        "###space complexity O(n)"
      ],
      "metadata": {
        "id": "GwkwJsWHGyFd"
      }
    },
    {
      "cell_type": "code",
      "source": [
        "def merge_sort(list_):\n",
        "  if len(list_)>1:\n",
        "    left=list_[:len(list_)//2]\n",
        "    right=list_[len(list_)//2:]\n",
        "    #divide\n",
        "    merge_sort(left)\n",
        "    merge_sort(right)\n",
        "    #merging\n",
        "    i=0 # pointer for left\n",
        "    j=0 # pointer for right\n",
        "    k=0 # pointer for join_\n",
        "    while i<len(left) and j<len(right):\n",
        "      if left[i]<right[j]:\n",
        "        list_[k]=left[i]\n",
        "        i+=1\n",
        "      else:\n",
        "        list_[k]=right[j]\n",
        "        j+=1\n",
        "      k+=1\n",
        "    while i<len(left):\n",
        "      list_[k]=left[i]\n",
        "      i+=1\n",
        "      k+=1\n",
        "    while j<len(right):\n",
        "      list_[k]=right[j]\n",
        "      j+=1\n",
        "      k+=1\n",
        "    return list_"
      ],
      "metadata": {
        "id": "_-kw45g6Gw9C"
      },
      "execution_count": null,
      "outputs": []
    },
    {
      "cell_type": "code",
      "source": [
        "print(A)\n",
        "print(merge_sort(A))"
      ],
      "metadata": {
        "colab": {
          "base_uri": "https://localhost:8080/"
        },
        "id": "RL-_CdbwKdUH",
        "outputId": "db12ea1b-2955-44cb-edab-db7f9a05f0d2"
      },
      "execution_count": null,
      "outputs": [
        {
          "output_type": "stream",
          "name": "stdout",
          "text": [
            "[8, 2, 9, 9, 3, 4, 7, 2, 1, 5]\n",
            "[1, 2, 2, 3, 4, 5, 7, 8, 9, 9]\n"
          ]
        }
      ]
    },
    {
      "cell_type": "markdown",
      "source": [
        "#quick sort\n",
        "##worst case:O(n^2)\n",
        "##unstable\n",
        "##out of line"
      ],
      "metadata": {
        "id": "nXJgqhkAXcAG"
      }
    },
    {
      "cell_type": "code",
      "source": [
        "def partition(left,right,list_):\n",
        "  pivot=list_[left]\n",
        "  index_smaller=left\n",
        "  for j in range(left+1,len(list_)):\n",
        "    if list_[j]<pivot:\n",
        "      index_smaller+=1\n",
        "      temp=list_[index_smaller]\n",
        "      list_[index_smaller]=list_[j]\n",
        "      list_[j]=temp\n",
        "  list_[left]=list_[index_smaller]\n",
        "  list_[index_smaller]=pivot\n",
        "  return index_smaller"
      ],
      "metadata": {
        "id": "TDxl6D1WtBrF"
      },
      "execution_count": null,
      "outputs": []
    },
    {
      "cell_type": "code",
      "source": [
        "def quick_sort(left,right,list_):\n",
        "  if len(list_)==1:\n",
        "    return list_\n",
        "  if left<right:\n",
        "    pivot_index=partition(left,right,list_)\n",
        "    quick_sort(left,pivot_index-1,list_)\n",
        "    quick_sort(pivot_index+1,right,list_)\n",
        "  return list_"
      ],
      "metadata": {
        "id": "2zpJwl7Nv8ld"
      },
      "execution_count": null,
      "outputs": []
    },
    {
      "cell_type": "code",
      "source": [
        "print(quick_sort(0,len(A)-1,A))"
      ],
      "metadata": {
        "colab": {
          "base_uri": "https://localhost:8080/"
        },
        "id": "TsNpTMU9wB4D",
        "outputId": "6fb2f2c9-76c2-48c9-a20f-54136393a76b"
      },
      "execution_count": null,
      "outputs": [
        {
          "output_type": "stream",
          "name": "stdout",
          "text": [
            "[1, 2, 2, 3, 4, 5, 7, 8, 9, 9]\n"
          ]
        }
      ]
    },
    {
      "cell_type": "markdown",
      "source": [
        "#Selection sort"
      ],
      "metadata": {
        "id": "yAz-vhMSGIM6"
      }
    },
    {
      "cell_type": "code",
      "source": [
        "def selection_sort(list_):\n",
        "  \n",
        "  for i in range(0,len(list_)):\n",
        "    min=i\n",
        "    for j in range(i+1,len(list_)):\n",
        "      if list_[j]<list_[min]:\n",
        "        min=j\n",
        "    if min!=i:\n",
        "      temp=list_[i]\n",
        "      list_[i]=list_[min]\n",
        "      list_[min]=temp\n",
        "\n",
        "  return list_\n"
      ],
      "metadata": {
        "id": "1ZjX_KCh4rJl"
      },
      "execution_count": null,
      "outputs": []
    },
    {
      "cell_type": "code",
      "source": [
        "A=[8,2,9,9,3,4,7,2,1,5]"
      ],
      "metadata": {
        "id": "9HVHLLv0LrrD"
      },
      "execution_count": null,
      "outputs": []
    },
    {
      "cell_type": "code",
      "source": [
        "print(A)\n",
        "print(selection_sort(A))\n"
      ],
      "metadata": {
        "colab": {
          "base_uri": "https://localhost:8080/"
        },
        "id": "1nucJUhFKqEc",
        "outputId": "4f222356-2957-49e1-a888-a044ea1a9639"
      },
      "execution_count": null,
      "outputs": [
        {
          "output_type": "stream",
          "name": "stdout",
          "text": [
            "[1, 2, 2, 3, 4, 5, 7, 8, 9, 9]\n",
            "[1, 2, 2, 3, 4, 5, 7, 8, 9, 9]\n"
          ]
        }
      ]
    },
    {
      "cell_type": "markdown",
      "source": [
        "#Counting Sort"
      ],
      "metadata": {
        "id": "vBCQWraAwnyP"
      }
    },
    {
      "cell_type": "code",
      "source": [
        "def counting_sort(list_,max):\n",
        "  arr=[0]*(max+1)\n",
        "  output=[0]*len(list_)\n",
        "  print(arr)\n",
        "  print(output)\n",
        "  for j in range(0,len(list_)):\n",
        "    arr[list_[j]]+=1\n",
        "  print(arr)\n",
        "  for i in range(1,len(arr)):\n",
        "    arr[i]=arr[i]+arr[i-1]\n",
        "  print(arr)\n",
        "  for ele in list_[::-1]:\n",
        "    arr[ele]-=1\n",
        "    output[arr[ele]]=ele\n",
        "  print(output)\n"
      ],
      "metadata": {
        "id": "8ps4o_ipK36S"
      },
      "execution_count": null,
      "outputs": []
    },
    {
      "cell_type": "code",
      "source": [
        "A=[8,2,9,9,3,4,7,2,1,5]\n",
        "counting_sort(A,9)"
      ],
      "metadata": {
        "colab": {
          "base_uri": "https://localhost:8080/"
        },
        "id": "OI8rmRS2y0EN",
        "outputId": "47f21987-81b7-4414-9e99-4b2be902bfc0"
      },
      "execution_count": null,
      "outputs": [
        {
          "output_type": "stream",
          "name": "stdout",
          "text": [
            "[0, 0, 0, 0, 0, 0, 0, 0, 0, 0]\n",
            "[0, 0, 0, 0, 0, 0, 0, 0, 0, 0]\n",
            "[0, 1, 2, 1, 1, 1, 0, 1, 1, 2]\n",
            "[0, 1, 3, 4, 5, 6, 6, 7, 8, 10]\n",
            "[1, 2, 2, 3, 4, 5, 7, 8, 9, 9]\n"
          ]
        }
      ]
    },
    {
      "cell_type": "code",
      "source": [
        "def flippingBits(n):\n",
        "    # Write your code here\n",
        "    temp=n\n",
        "    bits=[]\n",
        "    index=0\n",
        "    print(len(bits))\n",
        "    while(temp or len(bits)<32):\n",
        "      \n",
        "      bits.append(temp%2)\n",
        "      temp=int(temp/2)\n",
        "    bits=bits[::-1]\n",
        "    print(bits)\n",
        "    print(len(bits))\n",
        "    for i in range(32):\n",
        "        bits[i]=bits[i]^1\n",
        "    print(bits)\n",
        "    print(len(bits))\n",
        "    exp=31\n",
        "    total=0\n",
        "    for item in bits:\n",
        "        total=total+item*2**exp\n",
        "        exp-=1\n",
        "    return total"
      ],
      "metadata": {
        "id": "U-DRS-ZPy7Wr"
      },
      "execution_count": null,
      "outputs": []
    },
    {
      "cell_type": "code",
      "source": [
        "flippingBits(1)"
      ],
      "metadata": {
        "colab": {
          "base_uri": "https://localhost:8080/"
        },
        "id": "2IUSiRu6LoHe",
        "outputId": "e69b0f4e-baf9-4afc-c4f3-3f574aa1074c"
      },
      "execution_count": null,
      "outputs": [
        {
          "output_type": "stream",
          "name": "stdout",
          "text": [
            "0\n",
            "[0, 0, 0, 0, 0, 0, 0, 0, 0, 0, 0, 0, 0, 0, 0, 0, 0, 0, 0, 0, 0, 0, 0, 0, 0, 0, 0, 0, 0, 0, 0, 1]\n",
            "32\n",
            "[1, 1, 1, 1, 1, 1, 1, 1, 1, 1, 1, 1, 1, 1, 1, 1, 1, 1, 1, 1, 1, 1, 1, 1, 1, 1, 1, 1, 1, 1, 1, 0]\n",
            "32\n"
          ]
        },
        {
          "output_type": "execute_result",
          "data": {
            "text/plain": [
              "4294967294"
            ]
          },
          "metadata": {},
          "execution_count": 53
        }
      ]
    },
    {
      "cell_type": "code",
      "source": [
        "A=[2,1,3]\n",
        "B=[7,8,9]\n",
        "k=10"
      ],
      "metadata": {
        "id": "U3I86ZGBzHZx"
      },
      "execution_count": null,
      "outputs": []
    },
    {
      "cell_type": "code",
      "source": [
        "def twoArrays(k, A, B):\n",
        "    # Write your code her\n",
        "    A_n=sorted(A)\n",
        "    B_n=sorted(B,reverse=True)\n",
        "    print(A_n)\n",
        "    print(B_n)\n",
        "    for i,ele in enumerate(A_n):\n",
        "        if ele!=B_n[i]:\n",
        "        \n",
        "            return 'NO'\n",
        "    return 'YES'\n"
      ],
      "metadata": {
        "id": "NAF7Mrqz6Atg"
      },
      "execution_count": null,
      "outputs": []
    },
    {
      "cell_type": "code",
      "source": [
        "twoArrays(k,A,B)"
      ],
      "metadata": {
        "colab": {
          "base_uri": "https://localhost:8080/",
          "height": 70
        },
        "id": "sqvXAuMs6Mt_",
        "outputId": "bc6f0cb4-1b35-4604-9156-ef5fed4bf90c"
      },
      "execution_count": null,
      "outputs": [
        {
          "output_type": "stream",
          "name": "stdout",
          "text": [
            "[1, 2, 3]\n",
            "[9, 8, 7]\n"
          ]
        },
        {
          "output_type": "execute_result",
          "data": {
            "text/plain": [
              "'NO'"
            ],
            "application/vnd.google.colaboratory.intrinsic+json": {
              "type": "string"
            }
          },
          "metadata": {},
          "execution_count": 5
        }
      ]
    },
    {
      "cell_type": "code",
      "source": [
        "a=[1,2,34,4]\n",
        "a.insert()"
      ],
      "metadata": {
        "id": "Aob1E3k5W1JP"
      },
      "execution_count": null,
      "outputs": []
    },
    {
      "cell_type": "code",
      "source": [
        "def caesarCipher(s, k):\n",
        "    # Write your code here\n",
        "    final=''\n",
        "    comstring='abcdefghijklmnopqrstuvwxyz'\n",
        "    cap_srt=comstring.upper()\n",
        "    n=k%26\n",
        "    for char in s:\n",
        "      if char in comstring:\n",
        "          abc=comstring.find(char)\n",
        "          un=(abc+k)%26\n",
        "          final=final+comstring[un]\n",
        "      elif char in cap_srt:\n",
        "          ABC=cap_srt.find(char)\n",
        "          final=final+cap_srt[ABC+n]\n",
        "      else:\n",
        "            final=final+char\n",
        "    return final  "
      ],
      "metadata": {
        "id": "akl3WkTk1Pwx"
      },
      "execution_count": null,
      "outputs": []
    },
    {
      "cell_type": "code",
      "source": [
        "caesarCipher('middle-Outz',2)"
      ],
      "metadata": {
        "colab": {
          "base_uri": "https://localhost:8080/",
          "height": 35
        },
        "id": "02COGS7rAi9R",
        "outputId": "de5330b3-ead5-4f98-bffe-5b0328567235"
      },
      "execution_count": null,
      "outputs": [
        {
          "output_type": "execute_result",
          "data": {
            "text/plain": [
              "'okffng-Qwvb'"
            ],
            "application/vnd.google.colaboratory.intrinsic+json": {
              "type": "string"
            }
          },
          "metadata": {},
          "execution_count": 49
        }
      ]
    },
    {
      "cell_type": "code",
      "source": [
        "def maxMin(k, arr):\n",
        "    # Write your code here\n",
        "    arr.sort()\n",
        "    min_=arr[-1]\n",
        "    n=len(arr)\n",
        "    print(n)\n",
        "    for i in range(n-(k-1)):\n",
        "        print(i)\n",
        "        min_=min(min_,arr[k-1+i]-arr[i])\n",
        "    return min_"
      ],
      "metadata": {
        "id": "l3rV_pcjVyiA"
      },
      "execution_count": null,
      "outputs": []
    },
    {
      "cell_type": "code",
      "source": [
        "maxMin(3,[100,200,300,350,400,401,402])"
      ],
      "metadata": {
        "colab": {
          "base_uri": "https://localhost:8080/"
        },
        "id": "Zp2W12MzKgPR",
        "outputId": "752b8145-c56d-43b8-a2ee-e6f4a1c7b92d"
      },
      "execution_count": null,
      "outputs": [
        {
          "output_type": "stream",
          "name": "stdout",
          "text": [
            "7\n",
            "0\n",
            "1\n",
            "2\n",
            "3\n",
            "4\n"
          ]
        },
        {
          "output_type": "execute_result",
          "data": {
            "text/plain": [
              "2"
            ]
          },
          "metadata": {},
          "execution_count": 59
        }
      ]
    },
    {
      "cell_type": "code",
      "source": [
        "def dynamicArray(n, queries):\n",
        "    # Write your code here\n",
        "    arr=[[] for i in range(n)]\n",
        "    lastAnswer=0\n",
        "    ans=[]\n",
        "    for qu in queries:\n",
        "        if qu[0]=='1':\n",
        "            idx=(int(qu[1])^lastAnswer)%n\n",
        "            arr[idx].append(int(qu[2]))\n",
        "        elif qu[0]=='2':\n",
        "            idx=(int(qu[1])^lastAnswer)%n\n",
        "            lastAnswer=arr[idx][int(qu[2])%len(arr[idx])]\n",
        "            ans.append(lastAnswer)\n",
        "    return ans"
      ],
      "metadata": {
        "id": "Rie6noGjaGqP"
      },
      "execution_count": null,
      "outputs": []
    },
    {
      "cell_type": "code",
      "source": [
        "s=['105','117','103','210','211']\n",
        "dynamicArray(2,s)"
      ],
      "metadata": {
        "colab": {
          "base_uri": "https://localhost:8080/"
        },
        "id": "jTcKLVRGLo-o",
        "outputId": "a3f18bf7-308e-4efc-9035-28c1b9725708"
      },
      "execution_count": null,
      "outputs": [
        {
          "output_type": "execute_result",
          "data": {
            "text/plain": [
              "[7, 3]"
            ]
          },
          "metadata": {},
          "execution_count": 73
        }
      ]
    },
    {
      "cell_type": "code",
      "source": [
        "type(int('2'))"
      ],
      "metadata": {
        "colab": {
          "base_uri": "https://localhost:8080/"
        },
        "id": "pWqeV2tdbMMI",
        "outputId": "bd9e2a09-d64f-4b01-a464-435f8616db88"
      },
      "execution_count": null,
      "outputs": [
        {
          "output_type": "execute_result",
          "data": {
            "text/plain": [
              "int"
            ]
          },
          "metadata": {},
          "execution_count": 64
        }
      ]
    },
    {
      "cell_type": "code",
      "source": [
        "def bomberMan(n, grid):\n",
        "    # Write your code here\n",
        "    r=len(grid)\n",
        "    c=len(grid[0])\n",
        "    if n==1:\n",
        "        return grid\n",
        "    if n%2==0:\n",
        "        return ['O'*c for i in range(r)]\n",
        "    n=n//2\n",
        "    for q in range((n+1)%2+1):\n",
        "        newg=[['O']*c for i in range(r)]\n",
        "        \n",
        "        def detonate(a,b):\n",
        "            if 0<=a<r and 0<=b<c:\n",
        "                newg[a][b]='.'\n",
        "        \n",
        "        i_=[0,0,0,1,-1]\n",
        "        j_=[0,-1,1,0,0]\n",
        "        for x in range(r):\n",
        "            for y in range(c):\n",
        "                    if grid[x][y]=='O':\n",
        "                        print('live')\n",
        "                        for l,m in zip(i_,j_):\n",
        "                          print(l,m)\n",
        "                          detonate(x+l,y+m)\n",
        "        grid=newg\n",
        "    return [\"\".join(w) for w in grid]  \n",
        "bomberMan(3,['.......','...O...','....O..','.......','OO.....','OO.....'])"
      ],
      "metadata": {
        "id": "F60VNWijbOpe",
        "colab": {
          "base_uri": "https://localhost:8080/"
        },
        "outputId": "3eaf942d-090c-434b-d409-1d76f84953b9"
      },
      "execution_count": null,
      "outputs": [
        {
          "output_type": "stream",
          "name": "stdout",
          "text": [
            "live\n",
            "0 0\n",
            "0 -1\n",
            "0 1\n",
            "1 0\n",
            "-1 0\n",
            "live\n",
            "0 0\n",
            "0 -1\n",
            "0 1\n",
            "1 0\n",
            "-1 0\n",
            "live\n",
            "0 0\n",
            "0 -1\n",
            "0 1\n",
            "1 0\n",
            "-1 0\n",
            "live\n",
            "0 0\n",
            "0 -1\n",
            "0 1\n",
            "1 0\n",
            "-1 0\n",
            "live\n",
            "0 0\n",
            "0 -1\n",
            "0 1\n",
            "1 0\n",
            "-1 0\n",
            "live\n",
            "0 0\n",
            "0 -1\n",
            "0 1\n",
            "1 0\n",
            "-1 0\n"
          ]
        },
        {
          "output_type": "execute_result",
          "data": {
            "text/plain": [
              "['OOO.OOO', 'OO...OO', 'OOO...O', '..OO.OO', '...OOOO', '...OOOO']"
            ]
          },
          "metadata": {},
          "execution_count": 2
        }
      ]
    },
    {
      "cell_type": "code",
      "source": [
        "from collections import Counter\n",
        "def validString(s):\n",
        "  d1=Counter(s)\n",
        "  d2=Counter(list(d1.values()))\n",
        "  v=list(d2.keys())\n",
        "  if max(v)==min(v):\n",
        "    return'YES'\n",
        "  elif len(v)<=2 and (max(v)-min(v)==1 and d2[max(v)]==1) or (min(v)==1 and d2[min(v)]==1):\n",
        "    return'YES'\n",
        "  else:\n",
        "    return'NO'"
      ],
      "metadata": {
        "id": "9moLmBiUNXuW"
      },
      "execution_count": null,
      "outputs": []
    },
    {
      "cell_type": "code",
      "source": [
        "validString('abcdefghhgfedecba')"
      ],
      "metadata": {
        "colab": {
          "base_uri": "https://localhost:8080/",
          "height": 35
        },
        "id": "6JeFY-iMP1EQ",
        "outputId": "f85761a8-2ea7-4e47-cd5a-45fdc6b108bd"
      },
      "execution_count": null,
      "outputs": [
        {
          "output_type": "execute_result",
          "data": {
            "text/plain": [
              "'YES'"
            ],
            "application/vnd.google.colaboratory.intrinsic+json": {
              "type": "string"
            }
          },
          "metadata": {},
          "execution_count": 5
        }
      ]
    },
    {
      "cell_type": "markdown",
      "source": [
        "python basics\n"
      ],
      "metadata": {
        "id": "POSpALBDZF3B"
      }
    },
    {
      "cell_type": "code",
      "source": [
        "a=[[1,2],[3.4,5.0,6]]\n",
        "print(sum(a,[]))\n",
        "print(sum(a,[]))\n",
        "\n",
        "# variation\n",
        "print(['123']*5)\n",
        "print(('123')*5)\n",
        "\n",
        "# variation\n",
        "print(set('123'))\n",
        "print(['123'])\n",
        "\n",
        "a={1:\"A\",2:\"B\",3:\"C\"}\n",
        "print(a.get(5,4))\n",
        "print(a)\n",
        "a.get('element_to_search','If not found ')"
      ],
      "metadata": {
        "id": "5ELphowiZJZL",
        "colab": {
          "base_uri": "https://localhost:8080/",
          "height": 174
        },
        "outputId": "cf02c6c1-9ce0-40d5-84b3-46fc91aefce4"
      },
      "execution_count": null,
      "outputs": [
        {
          "output_type": "stream",
          "name": "stdout",
          "text": [
            "[1, 2, 3.4, 5.0, 6]\n",
            "[1, 2, 3.4, 5.0, 6]\n",
            "['123', '123', '123', '123', '123']\n",
            "123123123123123\n",
            "{'2', '3', '1'}\n",
            "['123']\n",
            "4\n",
            "{1: 'A', 2: 'B', 3: 'C'}\n"
          ]
        },
        {
          "output_type": "execute_result",
          "data": {
            "text/plain": [
              "'If not found '"
            ],
            "application/vnd.google.colaboratory.intrinsic+json": {
              "type": "string"
            }
          },
          "metadata": {},
          "execution_count": 7
        }
      ]
    },
    {
      "cell_type": "code",
      "source": [
        ""
      ],
      "metadata": {
        "id": "qnEG6N7PHNGP"
      },
      "execution_count": null,
      "outputs": []
    },
    {
      "cell_type": "code",
      "source": [
        "d[0]['1st innings']['deliveries'][0][0.1]['batsman']\n"
      ],
      "metadata": {
        "colab": {
          "base_uri": "https://localhost:8080/",
          "height": 35
        },
        "id": "5XTAtPucHM_O",
        "outputId": "b6df51ec-d5b5-4b06-c230-99e3fbb9d5f3"
      },
      "execution_count": null,
      "outputs": [
        {
          "output_type": "execute_result",
          "data": {
            "text/plain": [
              "'M Klinger'"
            ],
            "application/vnd.google.colaboratory.intrinsic+json": {
              "type": "string"
            }
          },
          "metadata": {},
          "execution_count": 24
        }
      ]
    },
    {
      "cell_type": "code",
      "source": [
        "from collections import Counter\n",
        "import pandas as pd"
      ],
      "metadata": {
        "id": "01SJgkga8lkY"
      },
      "execution_count": null,
      "outputs": []
    },
    {
      "cell_type": "code",
      "source": [
        "def dict_out(d):\n",
        "  \n",
        "  inning_result=[]\n",
        "  batsrun=[]\n",
        "  ballerruns=[]\n",
        "  wicket=[]\n",
        "  for ele in d:\n",
        "      for ele1 in d[ele]['deliveries']:\n",
        "          for ball in ele1:\n",
        "              t=ele1[ball]['runs']['batsman']\n",
        "              if t!=0:\n",
        "                batsrun.append([ele1[ball]['batsman']]*t)\n",
        "                ballerruns.append([ele1[ball]['bowler']]*t)\n",
        "              if ele1[ball]['runs']['extras']!=0:\n",
        "                ballerruns.append([ele1[ball]['bowler']]*ele1[ball]['runs']['extras'])\n",
        "              try:\n",
        "                  if type(ele1[ball]['wicket'])==dict:\n",
        "                    wicket.append([ele1[ball]['bowler']])\n",
        "              except:\n",
        "                pass\n",
        "  fbatrun=[xx for x in batsrun for xx in x]\n",
        "  fballerrun=[yy for y in ballerruns for yy in y]\n",
        "  #print(fballerrun)\n",
        "  fwicket=[zz for z in wicket for zz in z]\n",
        "  bat_dict=Counter(fbatrun)\n",
        "  baller_dict=Counter(fballerrun)\n",
        "  wicket_dict=Counter(fwicket)\n",
        "  return bat_dict,baller_dict,wicket_dict "
      ],
      "metadata": {
        "id": "MeMIhL4PR6jW"
      },
      "execution_count": null,
      "outputs": []
    },
    {
      "cell_type": "code",
      "source": [
        "a,b,c=dict_in(d)"
      ],
      "metadata": {
        "id": "JXgnvsN2R6nM"
      },
      "execution_count": null,
      "outputs": []
    },
    {
      "cell_type": "code",
      "source": [
        "def dict_to_df(a,b,c):\n",
        "          max=0\n",
        "          table=pd.DataFrame({'BATSMAN':list(a.keys()),'RUNS':list(a.values())}).sort_values(by='RUNS',ascending=False,ignore_index=True)[:4]\n",
        "        \n",
        "          table_two=pd.DataFrame({'BOWLER':list(b.keys()),'RUNS_GIVEN':list(b.values())}).sort_values(by='RUNS_GIVEN')\n",
        "          \n",
        "          table_three=pd.DataFrame({'BOWLER':list(c.keys()),'WICKETS':list(c.values())}).sort_values(by='WICKETS',ascending=False)\n",
        "          \n",
        "          table_m=table_three.merge(table_two,how='left',on='BOWLER')[:4]\n",
        "          \n",
        "          final=pd.concat([table,table_m],axis=1)\n",
        "          return final\n",
        "      "
      ],
      "metadata": {
        "id": "Va5_-NWl92xs"
      },
      "execution_count": null,
      "outputs": []
    },
    {
      "cell_type": "code",
      "source": [
        "dict_to_df(a,b,c)"
      ],
      "metadata": {
        "colab": {
          "base_uri": "https://localhost:8080/",
          "height": 175
        },
        "id": "tI1aUFHqAUyk",
        "outputId": "887f2722-faba-46cf-ed55-112ed92ecb63"
      },
      "execution_count": null,
      "outputs": [
        {
          "output_type": "execute_result",
          "data": {
            "text/plain": [
              "           BATSMAN  RUNS         BOWLER  WICKETS  RUNS_GIVEN\n",
              "0    DAS Gunaratne    84         AJ Tye        3          37\n",
              "1    CK Kapugedera    32    JP Faulkner        2          32\n",
              "2      N Dickwella    14      AJ Turner        1          16\n",
              "3  KMDN Kulasekara    12  JA Richardson        1          25"
            ],
            "text/html": [
              "\n",
              "  <div id=\"df-3125e597-f591-4c54-991b-1e2e932a273b\">\n",
              "    <div class=\"colab-df-container\">\n",
              "      <div>\n",
              "<style scoped>\n",
              "    .dataframe tbody tr th:only-of-type {\n",
              "        vertical-align: middle;\n",
              "    }\n",
              "\n",
              "    .dataframe tbody tr th {\n",
              "        vertical-align: top;\n",
              "    }\n",
              "\n",
              "    .dataframe thead th {\n",
              "        text-align: right;\n",
              "    }\n",
              "</style>\n",
              "<table border=\"1\" class=\"dataframe\">\n",
              "  <thead>\n",
              "    <tr style=\"text-align: right;\">\n",
              "      <th></th>\n",
              "      <th>BATSMAN</th>\n",
              "      <th>RUNS</th>\n",
              "      <th>BOWLER</th>\n",
              "      <th>WICKETS</th>\n",
              "      <th>RUNS_GIVEN</th>\n",
              "    </tr>\n",
              "  </thead>\n",
              "  <tbody>\n",
              "    <tr>\n",
              "      <th>0</th>\n",
              "      <td>DAS Gunaratne</td>\n",
              "      <td>84</td>\n",
              "      <td>AJ Tye</td>\n",
              "      <td>3</td>\n",
              "      <td>37</td>\n",
              "    </tr>\n",
              "    <tr>\n",
              "      <th>1</th>\n",
              "      <td>CK Kapugedera</td>\n",
              "      <td>32</td>\n",
              "      <td>JP Faulkner</td>\n",
              "      <td>2</td>\n",
              "      <td>32</td>\n",
              "    </tr>\n",
              "    <tr>\n",
              "      <th>2</th>\n",
              "      <td>N Dickwella</td>\n",
              "      <td>14</td>\n",
              "      <td>AJ Turner</td>\n",
              "      <td>1</td>\n",
              "      <td>16</td>\n",
              "    </tr>\n",
              "    <tr>\n",
              "      <th>3</th>\n",
              "      <td>KMDN Kulasekara</td>\n",
              "      <td>12</td>\n",
              "      <td>JA Richardson</td>\n",
              "      <td>1</td>\n",
              "      <td>25</td>\n",
              "    </tr>\n",
              "  </tbody>\n",
              "</table>\n",
              "</div>\n",
              "      <button class=\"colab-df-convert\" onclick=\"convertToInteractive('df-3125e597-f591-4c54-991b-1e2e932a273b')\"\n",
              "              title=\"Convert this dataframe to an interactive table.\"\n",
              "              style=\"display:none;\">\n",
              "        \n",
              "  <svg xmlns=\"http://www.w3.org/2000/svg\" height=\"24px\"viewBox=\"0 0 24 24\"\n",
              "       width=\"24px\">\n",
              "    <path d=\"M0 0h24v24H0V0z\" fill=\"none\"/>\n",
              "    <path d=\"M18.56 5.44l.94 2.06.94-2.06 2.06-.94-2.06-.94-.94-2.06-.94 2.06-2.06.94zm-11 1L8.5 8.5l.94-2.06 2.06-.94-2.06-.94L8.5 2.5l-.94 2.06-2.06.94zm10 10l.94 2.06.94-2.06 2.06-.94-2.06-.94-.94-2.06-.94 2.06-2.06.94z\"/><path d=\"M17.41 7.96l-1.37-1.37c-.4-.4-.92-.59-1.43-.59-.52 0-1.04.2-1.43.59L10.3 9.45l-7.72 7.72c-.78.78-.78 2.05 0 2.83L4 21.41c.39.39.9.59 1.41.59.51 0 1.02-.2 1.41-.59l7.78-7.78 2.81-2.81c.8-.78.8-2.07 0-2.86zM5.41 20L4 18.59l7.72-7.72 1.47 1.35L5.41 20z\"/>\n",
              "  </svg>\n",
              "      </button>\n",
              "      \n",
              "  <style>\n",
              "    .colab-df-container {\n",
              "      display:flex;\n",
              "      flex-wrap:wrap;\n",
              "      gap: 12px;\n",
              "    }\n",
              "\n",
              "    .colab-df-convert {\n",
              "      background-color: #E8F0FE;\n",
              "      border: none;\n",
              "      border-radius: 50%;\n",
              "      cursor: pointer;\n",
              "      display: none;\n",
              "      fill: #1967D2;\n",
              "      height: 32px;\n",
              "      padding: 0 0 0 0;\n",
              "      width: 32px;\n",
              "    }\n",
              "\n",
              "    .colab-df-convert:hover {\n",
              "      background-color: #E2EBFA;\n",
              "      box-shadow: 0px 1px 2px rgba(60, 64, 67, 0.3), 0px 1px 3px 1px rgba(60, 64, 67, 0.15);\n",
              "      fill: #174EA6;\n",
              "    }\n",
              "\n",
              "    [theme=dark] .colab-df-convert {\n",
              "      background-color: #3B4455;\n",
              "      fill: #D2E3FC;\n",
              "    }\n",
              "\n",
              "    [theme=dark] .colab-df-convert:hover {\n",
              "      background-color: #434B5C;\n",
              "      box-shadow: 0px 1px 3px 1px rgba(0, 0, 0, 0.15);\n",
              "      filter: drop-shadow(0px 1px 2px rgba(0, 0, 0, 0.3));\n",
              "      fill: #FFFFFF;\n",
              "    }\n",
              "  </style>\n",
              "\n",
              "      <script>\n",
              "        const buttonEl =\n",
              "          document.querySelector('#df-3125e597-f591-4c54-991b-1e2e932a273b button.colab-df-convert');\n",
              "        buttonEl.style.display =\n",
              "          google.colab.kernel.accessAllowed ? 'block' : 'none';\n",
              "\n",
              "        async function convertToInteractive(key) {\n",
              "          const element = document.querySelector('#df-3125e597-f591-4c54-991b-1e2e932a273b');\n",
              "          const dataTable =\n",
              "            await google.colab.kernel.invokeFunction('convertToInteractive',\n",
              "                                                     [key], {});\n",
              "          if (!dataTable) return;\n",
              "\n",
              "          const docLinkHtml = 'Like what you see? Visit the ' +\n",
              "            '<a target=\"_blank\" href=https://colab.research.google.com/notebooks/data_table.ipynb>data table notebook</a>'\n",
              "            + ' to learn more about interactive tables.';\n",
              "          element.innerHTML = '';\n",
              "          dataTable['output_type'] = 'display_data';\n",
              "          await google.colab.output.renderOutput(dataTable, element);\n",
              "          const docLink = document.createElement('div');\n",
              "          docLink.innerHTML = docLinkHtml;\n",
              "          element.appendChild(docLink);\n",
              "        }\n",
              "      </script>\n",
              "    </div>\n",
              "  </div>\n",
              "  "
            ]
          },
          "metadata": {},
          "execution_count": 71
        }
      ]
    },
    {
      "cell_type": "code",
      "source": [
        ""
      ],
      "metadata": {
        "id": "cuEXWwjmAUwO"
      },
      "execution_count": null,
      "outputs": []
    },
    {
      "cell_type": "code",
      "source": [
        ""
      ],
      "metadata": {
        "id": "7YZ_1-vxAUtb"
      },
      "execution_count": null,
      "outputs": []
    },
    {
      "cell_type": "code",
      "source": [
        "b"
      ],
      "metadata": {
        "colab": {
          "base_uri": "https://localhost:8080/"
        },
        "id": "mgrG4UOLR6p1",
        "outputId": "8a757efb-b7af-428f-fdd1-dbd8bcd35f2e"
      },
      "execution_count": null,
      "outputs": [
        {
          "output_type": "execute_result",
          "data": {
            "text/plain": [
              "Counter({'AJ Turner': 16,\n",
              "         'AJ Tye': 37,\n",
              "         'JA Richardson': 25,\n",
              "         'JP Faulkner': 32,\n",
              "         'MC Henriques': 38,\n",
              "         'PJ Cummins': 28})"
            ]
          },
          "metadata": {},
          "execution_count": 27
        }
      ]
    },
    {
      "cell_type": "code",
      "source": [
        ""
      ],
      "metadata": {
        "id": "kZyU6oFb-ayF"
      },
      "execution_count": null,
      "outputs": []
    },
    {
      "cell_type": "code",
      "source": [
        "d=[{'1st innings': {'deliveries': [{0.1: {'batsman': 'M Klinger',\n",
        "      'bowler': 'SL Malinga',\n",
        "      'non_striker': 'AJ Finch',\n",
        "      'runs': {'batsman': 0, 'extras': 0, 'total': 0}}},\n",
        "    {0.2: {'batsman': 'M Klinger',\n",
        "      'bowler': 'SL Malinga',\n",
        "      'non_striker': 'AJ Finch',\n",
        "      'runs': {'batsman': 1, 'extras': 0, 'total': 1}}},\n",
        "    {0.3: {'batsman': 'AJ Finch',\n",
        "      'bowler': 'SL Malinga',\n",
        "      'non_striker': 'M Klinger',\n",
        "      'runs': {'batsman': 0, 'extras': 0, 'total': 0}}},\n",
        "    {0.4: {'batsman': 'AJ Finch',\n",
        "      'bowler': 'SL Malinga',\n",
        "      'non_striker': 'M Klinger',\n",
        "      'runs': {'batsman': 4, 'extras': 0, 'total': 4}}},\n",
        "    {0.5: {'batsman': 'AJ Finch',\n",
        "      'bowler': 'SL Malinga',\n",
        "      'extras': {'legbyes': 1},\n",
        "      'non_striker': 'M Klinger',\n",
        "      'runs': {'batsman': 0, 'extras': 1, 'total': 1}}},\n",
        "    {0.6: {'batsman': 'M Klinger',\n",
        "      'bowler': 'SL Malinga',\n",
        "      'non_striker': 'AJ Finch',\n",
        "      'runs': {'batsman': 1, 'extras': 0, 'total': 1}}},\n",
        "    {1.1: {'batsman': 'M Klinger',\n",
        "      'bowler': 'KMDN Kulasekara',\n",
        "      'extras': {'wides': 1},\n",
        "      'non_striker': 'AJ Finch',\n",
        "      'runs': {'batsman': 0, 'extras': 1, 'total': 1}}},\n",
        "    {1.2: {'batsman': 'M Klinger',\n",
        "      'bowler': 'KMDN Kulasekara',\n",
        "      'non_striker': 'AJ Finch',\n",
        "      'runs': {'batsman': 1, 'extras': 0, 'total': 1}}},\n",
        "    {1.3: {'batsman': 'AJ Finch',\n",
        "      'bowler': 'KMDN Kulasekara',\n",
        "      'non_striker': 'M Klinger',\n",
        "      'runs': {'batsman': 2, 'extras': 0, 'total': 2}}},\n",
        "    {1.4: {'batsman': 'AJ Finch',\n",
        "      'bowler': 'KMDN Kulasekara',\n",
        "      'non_striker': 'M Klinger',\n",
        "      'runs': {'batsman': 2, 'extras': 0, 'total': 2}}},\n",
        "    {1.5: {'batsman': 'AJ Finch',\n",
        "      'bowler': 'KMDN Kulasekara',\n",
        "      'non_striker': 'M Klinger',\n",
        "      'runs': {'batsman': 4, 'extras': 0, 'total': 4}}},\n",
        "    {1.6: {'batsman': 'AJ Finch',\n",
        "      'bowler': 'KMDN Kulasekara',\n",
        "      'non_striker': 'M Klinger',\n",
        "      'runs': {'batsman': 0, 'extras': 0, 'total': 0}}},\n",
        "    {1.7: {'batsman': 'AJ Finch',\n",
        "      'bowler': 'KMDN Kulasekara',\n",
        "      'non_striker': 'M Klinger',\n",
        "      'runs': {'batsman': 0, 'extras': 0, 'total': 0}}},\n",
        "    {2.1: {'batsman': 'M Klinger',\n",
        "      'bowler': 'JRMVB Sanjaya',\n",
        "      'non_striker': 'AJ Finch',\n",
        "      'runs': {'batsman': 0, 'extras': 0, 'total': 0}}},\n",
        "    {2.2: {'batsman': 'M Klinger',\n",
        "      'bowler': 'JRMVB Sanjaya',\n",
        "      'non_striker': 'AJ Finch',\n",
        "      'runs': {'batsman': 1, 'extras': 0, 'total': 1}}},\n",
        "    {2.3: {'batsman': 'AJ Finch',\n",
        "      'bowler': 'JRMVB Sanjaya',\n",
        "      'non_striker': 'M Klinger',\n",
        "      'runs': {'batsman': 0, 'extras': 0, 'total': 0}}},\n",
        "    {2.4: {'batsman': 'AJ Finch',\n",
        "      'bowler': 'JRMVB Sanjaya',\n",
        "      'non_striker': 'M Klinger',\n",
        "      'runs': {'batsman': 0, 'extras': 0, 'total': 0},\n",
        "      'wicket': {'kind': 'caught and bowled', 'player_out': 'AJ Finch'}}},\n",
        "    {2.5: {'batsman': 'BR Dunk',\n",
        "      'bowler': 'JRMVB Sanjaya',\n",
        "      'non_striker': 'M Klinger',\n",
        "      'runs': {'batsman': 0, 'extras': 0, 'total': 0}}},\n",
        "    {2.6: {'batsman': 'BR Dunk',\n",
        "      'bowler': 'JRMVB Sanjaya',\n",
        "      'non_striker': 'M Klinger',\n",
        "      'runs': {'batsman': 0, 'extras': 0, 'total': 0}}},\n",
        "    {3.1: {'batsman': 'M Klinger',\n",
        "      'bowler': 'KMDN Kulasekara',\n",
        "      'extras': {'wides': 1},\n",
        "      'non_striker': 'BR Dunk',\n",
        "      'runs': {'batsman': 0, 'extras': 1, 'total': 1}}},\n",
        "    {3.2: {'batsman': 'M Klinger',\n",
        "      'bowler': 'KMDN Kulasekara',\n",
        "      'non_striker': 'BR Dunk',\n",
        "      'runs': {'batsman': 2, 'extras': 0, 'total': 2}}},\n",
        "    {3.3: {'batsman': 'M Klinger',\n",
        "      'bowler': 'KMDN Kulasekara',\n",
        "      'non_striker': 'BR Dunk',\n",
        "      'runs': {'batsman': 0, 'extras': 0, 'total': 0}}},\n",
        "    {3.4: {'batsman': 'M Klinger',\n",
        "      'bowler': 'KMDN Kulasekara',\n",
        "      'non_striker': 'BR Dunk',\n",
        "      'runs': {'batsman': 4, 'extras': 0, 'total': 4}}},\n",
        "    {3.5: {'batsman': 'M Klinger',\n",
        "      'bowler': 'KMDN Kulasekara',\n",
        "      'non_striker': 'BR Dunk',\n",
        "      'runs': {'batsman': 1, 'extras': 0, 'total': 1}}},\n",
        "    {3.6: {'batsman': 'BR Dunk',\n",
        "      'bowler': 'KMDN Kulasekara',\n",
        "      'non_striker': 'M Klinger',\n",
        "      'runs': {'batsman': 4, 'extras': 0, 'total': 4}}},\n",
        "    {3.7: {'batsman': 'BR Dunk',\n",
        "      'bowler': 'KMDN Kulasekara',\n",
        "      'non_striker': 'M Klinger',\n",
        "      'runs': {'batsman': 0, 'extras': 0, 'total': 0}}},\n",
        "    {4.1: {'batsman': 'M Klinger',\n",
        "      'bowler': 'JRMVB Sanjaya',\n",
        "      'non_striker': 'BR Dunk',\n",
        "      'runs': {'batsman': 0, 'extras': 0, 'total': 0}}},\n",
        "    {4.2: {'batsman': 'M Klinger',\n",
        "      'bowler': 'JRMVB Sanjaya',\n",
        "      'non_striker': 'BR Dunk',\n",
        "      'runs': {'batsman': 0, 'extras': 0, 'total': 0}}},\n",
        "    {4.3: {'batsman': 'M Klinger',\n",
        "      'bowler': 'JRMVB Sanjaya',\n",
        "      'non_striker': 'BR Dunk',\n",
        "      'runs': {'batsman': 1, 'extras': 0, 'total': 1}}},\n",
        "    {4.4: {'batsman': 'BR Dunk',\n",
        "      'bowler': 'JRMVB Sanjaya',\n",
        "      'non_striker': 'M Klinger',\n",
        "      'runs': {'batsman': 4, 'extras': 0, 'total': 4}}},\n",
        "    {4.5: {'batsman': 'BR Dunk',\n",
        "      'bowler': 'JRMVB Sanjaya',\n",
        "      'non_striker': 'M Klinger',\n",
        "      'runs': {'batsman': 1, 'extras': 0, 'total': 1}}},\n",
        "    {4.6: {'batsman': 'M Klinger',\n",
        "      'bowler': 'JRMVB Sanjaya',\n",
        "      'non_striker': 'BR Dunk',\n",
        "      'runs': {'batsman': 2, 'extras': 0, 'total': 2}}},\n",
        "    {5.1: {'batsman': 'BR Dunk',\n",
        "      'bowler': 'EMDY Munaweera',\n",
        "      'non_striker': 'M Klinger',\n",
        "      'runs': {'batsman': 4, 'extras': 0, 'total': 4}}},\n",
        "    {5.2: {'batsman': 'BR Dunk',\n",
        "      'bowler': 'EMDY Munaweera',\n",
        "      'non_striker': 'M Klinger',\n",
        "      'runs': {'batsman': 0, 'extras': 0, 'total': 0}}},\n",
        "    {5.3: {'batsman': 'BR Dunk',\n",
        "      'bowler': 'EMDY Munaweera',\n",
        "      'non_striker': 'M Klinger',\n",
        "      'runs': {'batsman': 6, 'extras': 0, 'total': 6}}},\n",
        "    {5.4: {'batsman': 'BR Dunk',\n",
        "      'bowler': 'EMDY Munaweera',\n",
        "      'non_striker': 'M Klinger',\n",
        "      'runs': {'batsman': 6, 'extras': 0, 'total': 6}}},\n",
        "    {5.5: {'batsman': 'BR Dunk',\n",
        "      'bowler': 'EMDY Munaweera',\n",
        "      'non_striker': 'M Klinger',\n",
        "      'runs': {'batsman': 0, 'extras': 0, 'total': 0}}},\n",
        "    {5.6: {'batsman': 'BR Dunk',\n",
        "      'bowler': 'EMDY Munaweera',\n",
        "      'non_striker': 'M Klinger',\n",
        "      'runs': {'batsman': 6, 'extras': 0, 'total': 6}}},\n",
        "    {6.1: {'batsman': 'M Klinger',\n",
        "      'bowler': 'DAS Gunaratne',\n",
        "      'non_striker': 'BR Dunk',\n",
        "      'runs': {'batsman': 1, 'extras': 0, 'total': 1}}},\n",
        "    {6.2: {'batsman': 'BR Dunk',\n",
        "      'bowler': 'DAS Gunaratne',\n",
        "      'non_striker': 'M Klinger',\n",
        "      'runs': {'batsman': 1, 'extras': 0, 'total': 1}}},\n",
        "    {6.3: {'batsman': 'M Klinger',\n",
        "      'bowler': 'DAS Gunaratne',\n",
        "      'non_striker': 'BR Dunk',\n",
        "      'runs': {'batsman': 1, 'extras': 0, 'total': 1}}},\n",
        "    {6.4: {'batsman': 'BR Dunk',\n",
        "      'bowler': 'DAS Gunaratne',\n",
        "      'non_striker': 'M Klinger',\n",
        "      'runs': {'batsman': 0, 'extras': 0, 'total': 0},\n",
        "      'wicket': {'kind': 'bowled', 'player_out': 'BR Dunk'}}},\n",
        "    {6.5: {'batsman': 'MC Henriques',\n",
        "      'bowler': 'DAS Gunaratne',\n",
        "      'non_striker': 'M Klinger',\n",
        "      'runs': {'batsman': 1, 'extras': 0, 'total': 1}}},\n",
        "    {6.6: {'batsman': 'M Klinger',\n",
        "      'bowler': 'DAS Gunaratne',\n",
        "      'non_striker': 'MC Henriques',\n",
        "      'runs': {'batsman': 0, 'extras': 0, 'total': 0}}},\n",
        "    {7.1: {'batsman': 'MC Henriques',\n",
        "      'bowler': 'S Prasanna',\n",
        "      'non_striker': 'M Klinger',\n",
        "      'runs': {'batsman': 1, 'extras': 0, 'total': 1}}},\n",
        "    {7.2: {'batsman': 'M Klinger',\n",
        "      'bowler': 'S Prasanna',\n",
        "      'non_striker': 'MC Henriques',\n",
        "      'runs': {'batsman': 0, 'extras': 0, 'total': 0}}},\n",
        "    {7.3: {'batsman': 'M Klinger',\n",
        "      'bowler': 'S Prasanna',\n",
        "      'non_striker': 'MC Henriques',\n",
        "      'runs': {'batsman': 0, 'extras': 0, 'total': 0}}},\n",
        "    {7.4: {'batsman': 'M Klinger',\n",
        "      'bowler': 'S Prasanna',\n",
        "      'non_striker': 'MC Henriques',\n",
        "      'runs': {'batsman': 1, 'extras': 0, 'total': 1}}},\n",
        "    {7.5: {'batsman': 'MC Henriques',\n",
        "      'bowler': 'S Prasanna',\n",
        "      'non_striker': 'M Klinger',\n",
        "      'runs': {'batsman': 1, 'extras': 0, 'total': 1}}},\n",
        "    {7.6: {'batsman': 'M Klinger',\n",
        "      'bowler': 'S Prasanna',\n",
        "      'non_striker': 'MC Henriques',\n",
        "      'runs': {'batsman': 0, 'extras': 0, 'total': 0}}},\n",
        "    {8.1: {'batsman': 'MC Henriques',\n",
        "      'bowler': 'DAS Gunaratne',\n",
        "      'non_striker': 'M Klinger',\n",
        "      'runs': {'batsman': 1, 'extras': 0, 'total': 1}}},\n",
        "    {8.2: {'batsman': 'M Klinger',\n",
        "      'bowler': 'DAS Gunaratne',\n",
        "      'non_striker': 'MC Henriques',\n",
        "      'runs': {'batsman': 2, 'extras': 0, 'total': 2}}},\n",
        "    {8.3: {'batsman': 'M Klinger',\n",
        "      'bowler': 'DAS Gunaratne',\n",
        "      'non_striker': 'MC Henriques',\n",
        "      'runs': {'batsman': 1, 'extras': 0, 'total': 1}}},\n",
        "    {8.4: {'batsman': 'MC Henriques',\n",
        "      'bowler': 'DAS Gunaratne',\n",
        "      'non_striker': 'M Klinger',\n",
        "      'runs': {'batsman': 1, 'extras': 0, 'total': 1}}},\n",
        "    {8.5: {'batsman': 'M Klinger',\n",
        "      'bowler': 'DAS Gunaratne',\n",
        "      'non_striker': 'MC Henriques',\n",
        "      'runs': {'batsman': 1, 'extras': 0, 'total': 1}}},\n",
        "    {8.6: {'batsman': 'MC Henriques',\n",
        "      'bowler': 'DAS Gunaratne',\n",
        "      'non_striker': 'M Klinger',\n",
        "      'runs': {'batsman': 1, 'extras': 0, 'total': 1}}},\n",
        "    {9.1: {'batsman': 'MC Henriques',\n",
        "      'bowler': 'S Prasanna',\n",
        "      'non_striker': 'M Klinger',\n",
        "      'runs': {'batsman': 0, 'extras': 0, 'total': 0}}},\n",
        "    {9.2: {'batsman': 'MC Henriques',\n",
        "      'bowler': 'S Prasanna',\n",
        "      'non_striker': 'M Klinger',\n",
        "      'runs': {'batsman': 2, 'extras': 0, 'total': 2}}},\n",
        "    {9.3: {'batsman': 'MC Henriques',\n",
        "      'bowler': 'S Prasanna',\n",
        "      'non_striker': 'M Klinger',\n",
        "      'runs': {'batsman': 0, 'extras': 0, 'total': 0}}},\n",
        "    {9.4: {'batsman': 'MC Henriques',\n",
        "      'bowler': 'S Prasanna',\n",
        "      'non_striker': 'M Klinger',\n",
        "      'runs': {'batsman': 1, 'extras': 0, 'total': 1}}},\n",
        "    {9.5: {'batsman': 'M Klinger',\n",
        "      'bowler': 'S Prasanna',\n",
        "      'non_striker': 'MC Henriques',\n",
        "      'runs': {'batsman': 2, 'extras': 0, 'total': 2}}},\n",
        "    {9.6: {'batsman': 'M Klinger',\n",
        "      'bowler': 'S Prasanna',\n",
        "      'non_striker': 'MC Henriques',\n",
        "      'runs': {'batsman': 1, 'extras': 0, 'total': 1}}},\n",
        "    {10.1: {'batsman': 'M Klinger',\n",
        "      'bowler': 'DAS Gunaratne',\n",
        "      'non_striker': 'MC Henriques',\n",
        "      'runs': {'batsman': 6, 'extras': 0, 'total': 6}}},\n",
        "    {10.2: {'batsman': 'M Klinger',\n",
        "      'bowler': 'DAS Gunaratne',\n",
        "      'non_striker': 'MC Henriques',\n",
        "      'runs': {'batsman': 1, 'extras': 0, 'total': 1}}},\n",
        "    {10.3: {'batsman': 'MC Henriques',\n",
        "      'bowler': 'DAS Gunaratne',\n",
        "      'non_striker': 'M Klinger',\n",
        "      'runs': {'batsman': 0, 'extras': 0, 'total': 0}}},\n",
        "    {10.4: {'batsman': 'MC Henriques',\n",
        "      'bowler': 'DAS Gunaratne',\n",
        "      'non_striker': 'M Klinger',\n",
        "      'runs': {'batsman': 1, 'extras': 0, 'total': 1}}},\n",
        "    {10.5: {'batsman': 'M Klinger',\n",
        "      'bowler': 'DAS Gunaratne',\n",
        "      'non_striker': 'MC Henriques',\n",
        "      'runs': {'batsman': 1, 'extras': 0, 'total': 1}}},\n",
        "    {10.6: {'batsman': 'MC Henriques',\n",
        "      'bowler': 'DAS Gunaratne',\n",
        "      'non_striker': 'M Klinger',\n",
        "      'runs': {'batsman': 6, 'extras': 0, 'total': 6}}},\n",
        "    {11.1: {'batsman': 'M Klinger',\n",
        "      'bowler': 'S Prasanna',\n",
        "      'non_striker': 'MC Henriques',\n",
        "      'runs': {'batsman': 2, 'extras': 0, 'total': 2}}},\n",
        "    {11.2: {'batsman': 'M Klinger',\n",
        "      'bowler': 'S Prasanna',\n",
        "      'non_striker': 'MC Henriques',\n",
        "      'runs': {'batsman': 4, 'extras': 0, 'total': 4}}},\n",
        "    {11.3: {'batsman': 'M Klinger',\n",
        "      'bowler': 'S Prasanna',\n",
        "      'non_striker': 'MC Henriques',\n",
        "      'runs': {'batsman': 0, 'extras': 0, 'total': 0}}},\n",
        "    {11.4: {'batsman': 'M Klinger',\n",
        "      'bowler': 'S Prasanna',\n",
        "      'non_striker': 'MC Henriques',\n",
        "      'runs': {'batsman': 1, 'extras': 0, 'total': 1}}},\n",
        "    {11.5: {'batsman': 'MC Henriques',\n",
        "      'bowler': 'S Prasanna',\n",
        "      'non_striker': 'M Klinger',\n",
        "      'runs': {'batsman': 0, 'extras': 0, 'total': 0}}},\n",
        "    {11.6: {'batsman': 'MC Henriques',\n",
        "      'bowler': 'S Prasanna',\n",
        "      'non_striker': 'M Klinger',\n",
        "      'runs': {'batsman': 1, 'extras': 0, 'total': 1}}},\n",
        "    {12.1: {'batsman': 'MC Henriques',\n",
        "      'bowler': 'SL Malinga',\n",
        "      'non_striker': 'M Klinger',\n",
        "      'runs': {'batsman': 0, 'extras': 0, 'total': 0}}},\n",
        "    {12.2: {'batsman': 'MC Henriques',\n",
        "      'bowler': 'SL Malinga',\n",
        "      'non_striker': 'M Klinger',\n",
        "      'runs': {'batsman': 1, 'extras': 0, 'total': 1}}},\n",
        "    {12.3: {'batsman': 'M Klinger',\n",
        "      'bowler': 'SL Malinga',\n",
        "      'non_striker': 'MC Henriques',\n",
        "      'runs': {'batsman': 1, 'extras': 0, 'total': 1}}},\n",
        "    {12.4: {'batsman': 'MC Henriques',\n",
        "      'bowler': 'SL Malinga',\n",
        "      'non_striker': 'M Klinger',\n",
        "      'runs': {'batsman': 1, 'extras': 0, 'total': 1}}},\n",
        "    {12.5: {'batsman': 'M Klinger',\n",
        "      'bowler': 'SL Malinga',\n",
        "      'non_striker': 'MC Henriques',\n",
        "      'runs': {'batsman': 1, 'extras': 0, 'total': 1}}},\n",
        "    {12.6: {'batsman': 'MC Henriques',\n",
        "      'bowler': 'SL Malinga',\n",
        "      'non_striker': 'M Klinger',\n",
        "      'runs': {'batsman': 4, 'extras': 0, 'total': 4}}},\n",
        "    {13.1: {'batsman': 'M Klinger',\n",
        "      'bowler': 'JRMVB Sanjaya',\n",
        "      'non_striker': 'MC Henriques',\n",
        "      'runs': {'batsman': 2, 'extras': 0, 'total': 2}}},\n",
        "    {13.2: {'batsman': 'M Klinger',\n",
        "      'bowler': 'JRMVB Sanjaya',\n",
        "      'non_striker': 'MC Henriques',\n",
        "      'runs': {'batsman': 0, 'extras': 0, 'total': 0},\n",
        "      'wicket': {'fielders': ['N Dickwella'],\n",
        "       'kind': 'caught',\n",
        "       'player_out': 'M Klinger'}}},\n",
        "    {13.3: {'batsman': 'TM Head',\n",
        "      'bowler': 'JRMVB Sanjaya',\n",
        "      'non_striker': 'MC Henriques',\n",
        "      'runs': {'batsman': 1, 'extras': 0, 'total': 1}}},\n",
        "    {13.4: {'batsman': 'MC Henriques',\n",
        "      'bowler': 'JRMVB Sanjaya',\n",
        "      'non_striker': 'TM Head',\n",
        "      'runs': {'batsman': 1, 'extras': 0, 'total': 1}}},\n",
        "    {13.5: {'batsman': 'TM Head',\n",
        "      'bowler': 'JRMVB Sanjaya',\n",
        "      'non_striker': 'MC Henriques',\n",
        "      'runs': {'batsman': 1, 'extras': 0, 'total': 1}}},\n",
        "    {13.6: {'batsman': 'MC Henriques',\n",
        "      'bowler': 'JRMVB Sanjaya',\n",
        "      'extras': {'wides': 1},\n",
        "      'non_striker': 'TM Head',\n",
        "      'runs': {'batsman': 0, 'extras': 1, 'total': 1}}},\n",
        "    {13.7: {'batsman': 'MC Henriques',\n",
        "      'bowler': 'JRMVB Sanjaya',\n",
        "      'non_striker': 'TM Head',\n",
        "      'runs': {'batsman': 2, 'extras': 0, 'total': 2}}},\n",
        "    {14.1: {'batsman': 'TM Head',\n",
        "      'bowler': 'KMDN Kulasekara',\n",
        "      'non_striker': 'MC Henriques',\n",
        "      'runs': {'batsman': 2, 'extras': 0, 'total': 2}}},\n",
        "    {14.2: {'batsman': 'TM Head',\n",
        "      'bowler': 'KMDN Kulasekara',\n",
        "      'non_striker': 'MC Henriques',\n",
        "      'runs': {'batsman': 0, 'extras': 0, 'total': 0},\n",
        "      'wicket': {'fielders': ['N Dickwella'],\n",
        "       'kind': 'caught',\n",
        "       'player_out': 'TM Head'}}},\n",
        "    {14.3: {'batsman': 'AJ Turner',\n",
        "      'bowler': 'KMDN Kulasekara',\n",
        "      'non_striker': 'MC Henriques',\n",
        "      'runs': {'batsman': 1, 'extras': 0, 'total': 1}}},\n",
        "    {14.4: {'batsman': 'MC Henriques',\n",
        "      'bowler': 'KMDN Kulasekara',\n",
        "      'non_striker': 'AJ Turner',\n",
        "      'runs': {'batsman': 1, 'extras': 0, 'total': 1}}},\n",
        "    {14.5: {'batsman': 'AJ Turner',\n",
        "      'bowler': 'KMDN Kulasekara',\n",
        "      'non_striker': 'MC Henriques',\n",
        "      'runs': {'batsman': 1, 'extras': 0, 'total': 1}}},\n",
        "    {14.6: {'batsman': 'MC Henriques',\n",
        "      'bowler': 'KMDN Kulasekara',\n",
        "      'non_striker': 'AJ Turner',\n",
        "      'runs': {'batsman': 1, 'extras': 0, 'total': 1}}},\n",
        "    {15.1: {'batsman': 'MC Henriques',\n",
        "      'bowler': 'S Prasanna',\n",
        "      'non_striker': 'AJ Turner',\n",
        "      'runs': {'batsman': 1, 'extras': 0, 'total': 1}}},\n",
        "    {15.2: {'batsman': 'AJ Turner',\n",
        "      'bowler': 'S Prasanna',\n",
        "      'non_striker': 'MC Henriques',\n",
        "      'runs': {'batsman': 2, 'extras': 0, 'total': 2}}},\n",
        "    {15.3: {'batsman': 'AJ Turner',\n",
        "      'bowler': 'S Prasanna',\n",
        "      'non_striker': 'MC Henriques',\n",
        "      'runs': {'batsman': 2, 'extras': 0, 'total': 2}}},\n",
        "    {15.4: {'batsman': 'AJ Turner',\n",
        "      'bowler': 'S Prasanna',\n",
        "      'non_striker': 'MC Henriques',\n",
        "      'runs': {'batsman': 1, 'extras': 0, 'total': 1}}},\n",
        "    {15.5: {'batsman': 'MC Henriques',\n",
        "      'bowler': 'S Prasanna',\n",
        "      'non_striker': 'AJ Turner',\n",
        "      'runs': {'batsman': 3, 'extras': 0, 'total': 3}}},\n",
        "    {15.6: {'batsman': 'AJ Turner',\n",
        "      'bowler': 'S Prasanna',\n",
        "      'non_striker': 'MC Henriques',\n",
        "      'runs': {'batsman': 0, 'extras': 0, 'total': 0},\n",
        "      'wicket': {'fielders': ['TAM Siriwardana'],\n",
        "       'kind': 'caught',\n",
        "       'player_out': 'AJ Turner'}}},\n",
        "    {16.1: {'batsman': 'JP Faulkner',\n",
        "      'bowler': 'SL Malinga',\n",
        "      'non_striker': 'MC Henriques',\n",
        "      'runs': {'batsman': 1, 'extras': 0, 'total': 1}}},\n",
        "    {16.2: {'batsman': 'MC Henriques',\n",
        "      'bowler': 'SL Malinga',\n",
        "      'non_striker': 'JP Faulkner',\n",
        "      'runs': {'batsman': 2, 'extras': 0, 'total': 2}}},\n",
        "    {16.3: {'batsman': 'MC Henriques',\n",
        "      'bowler': 'SL Malinga',\n",
        "      'non_striker': 'JP Faulkner',\n",
        "      'runs': {'batsman': 4, 'extras': 0, 'total': 4}}},\n",
        "    {16.4: {'batsman': 'MC Henriques',\n",
        "      'bowler': 'SL Malinga',\n",
        "      'non_striker': 'JP Faulkner',\n",
        "      'runs': {'batsman': 2, 'extras': 0, 'total': 2}}},\n",
        "    {16.5: {'batsman': 'MC Henriques',\n",
        "      'bowler': 'SL Malinga',\n",
        "      'non_striker': 'JP Faulkner',\n",
        "      'runs': {'batsman': 1, 'extras': 0, 'total': 1}}},\n",
        "    {16.6: {'batsman': 'JP Faulkner',\n",
        "      'bowler': 'SL Malinga',\n",
        "      'non_striker': 'MC Henriques',\n",
        "      'runs': {'batsman': 0, 'extras': 0, 'total': 0},\n",
        "      'wicket': {'kind': 'lbw', 'player_out': 'JP Faulkner'}}},\n",
        "    {17.1: {'batsman': 'MC Henriques',\n",
        "      'bowler': 'JRMVB Sanjaya',\n",
        "      'non_striker': 'TD Paine',\n",
        "      'runs': {'batsman': 6, 'extras': 0, 'total': 6}}},\n",
        "    {17.2: {'batsman': 'MC Henriques',\n",
        "      'bowler': 'JRMVB Sanjaya',\n",
        "      'non_striker': 'TD Paine',\n",
        "      'runs': {'batsman': 1, 'extras': 0, 'total': 1}}},\n",
        "    {17.3: {'batsman': 'TD Paine',\n",
        "      'bowler': 'JRMVB Sanjaya',\n",
        "      'non_striker': 'MC Henriques',\n",
        "      'runs': {'batsman': 4, 'extras': 0, 'total': 4}}},\n",
        "    {17.4: {'batsman': 'TD Paine',\n",
        "      'bowler': 'JRMVB Sanjaya',\n",
        "      'non_striker': 'MC Henriques',\n",
        "      'runs': {'batsman': 1, 'extras': 0, 'total': 1}}},\n",
        "    {17.5: {'batsman': 'MC Henriques',\n",
        "      'bowler': 'JRMVB Sanjaya',\n",
        "      'non_striker': 'TD Paine',\n",
        "      'runs': {'batsman': 1, 'extras': 0, 'total': 1}}},\n",
        "    {17.6: {'batsman': 'TD Paine',\n",
        "      'bowler': 'JRMVB Sanjaya',\n",
        "      'non_striker': 'MC Henriques',\n",
        "      'runs': {'batsman': 2, 'extras': 0, 'total': 2}}},\n",
        "    {18.1: {'batsman': 'MC Henriques',\n",
        "      'bowler': 'SL Malinga',\n",
        "      'non_striker': 'TD Paine',\n",
        "      'runs': {'batsman': 2, 'extras': 0, 'total': 2}}},\n",
        "    {18.2: {'batsman': 'MC Henriques',\n",
        "      'bowler': 'SL Malinga',\n",
        "      'non_striker': 'TD Paine',\n",
        "      'runs': {'batsman': 1, 'extras': 0, 'total': 1}}},\n",
        "    {18.3: {'batsman': 'TD Paine',\n",
        "      'bowler': 'SL Malinga',\n",
        "      'non_striker': 'MC Henriques',\n",
        "      'runs': {'batsman': 0, 'extras': 0, 'total': 0},\n",
        "      'wicket': {'kind': 'lbw', 'player_out': 'TD Paine'}}},\n",
        "    {18.4: {'batsman': 'PJ Cummins',\n",
        "      'bowler': 'SL Malinga',\n",
        "      'non_striker': 'MC Henriques',\n",
        "      'runs': {'batsman': 1, 'extras': 0, 'total': 1}}},\n",
        "    {18.5: {'batsman': 'MC Henriques',\n",
        "      'bowler': 'SL Malinga',\n",
        "      'non_striker': 'PJ Cummins',\n",
        "      'runs': {'batsman': 1, 'extras': 0, 'total': 1}}},\n",
        "    {18.6: {'batsman': 'PJ Cummins',\n",
        "      'bowler': 'SL Malinga',\n",
        "      'non_striker': 'MC Henriques',\n",
        "      'runs': {'batsman': 2, 'extras': 0, 'total': 2}}},\n",
        "    {19.1: {'batsman': 'MC Henriques',\n",
        "      'bowler': 'KMDN Kulasekara',\n",
        "      'non_striker': 'PJ Cummins',\n",
        "      'runs': {'batsman': 2, 'extras': 0, 'total': 2}}},\n",
        "    {19.2: {'batsman': 'MC Henriques',\n",
        "      'bowler': 'KMDN Kulasekara',\n",
        "      'non_striker': 'PJ Cummins',\n",
        "      'runs': {'batsman': 1, 'extras': 0, 'total': 1}}},\n",
        "    {19.3: {'batsman': 'PJ Cummins',\n",
        "      'bowler': 'KMDN Kulasekara',\n",
        "      'non_striker': 'MC Henriques',\n",
        "      'runs': {'batsman': 0, 'extras': 0, 'total': 0},\n",
        "      'wicket': {'kind': 'bowled', 'player_out': 'PJ Cummins'}}},\n",
        "    {19.4: {'batsman': 'AJ Tye',\n",
        "      'bowler': 'KMDN Kulasekara',\n",
        "      'extras': {'legbyes': 4},\n",
        "      'non_striker': 'MC Henriques',\n",
        "      'runs': {'batsman': 0, 'extras': 4, 'total': 4}}},\n",
        "    {19.5: {'batsman': 'AJ Tye',\n",
        "      'bowler': 'KMDN Kulasekara',\n",
        "      'non_striker': 'MC Henriques',\n",
        "      'runs': {'batsman': 0, 'extras': 0, 'total': 0},\n",
        "      'wicket': {'kind': 'lbw', 'player_out': 'AJ Tye'}}},\n",
        "    {19.6: {'batsman': 'JA Richardson',\n",
        "      'bowler': 'KMDN Kulasekara',\n",
        "      'non_striker': 'MC Henriques',\n",
        "      'runs': {'batsman': 0, 'extras': 0, 'total': 0},\n",
        "      'wicket': {'kind': 'bowled', 'player_out': 'JA Richardson'}}}],\n",
        "   'team': 'Australia'}},\n",
        " {'2nd innings': {'deliveries': [{0.1: {'batsman': 'N Dickwella',\n",
        "      'bowler': 'AJ Turner',\n",
        "      'non_striker': 'WU Tharanga',\n",
        "      'runs': {'batsman': 1, 'extras': 0, 'total': 1}}},\n",
        "    {0.2: {'batsman': 'WU Tharanga',\n",
        "      'bowler': 'AJ Turner',\n",
        "      'non_striker': 'N Dickwella',\n",
        "      'runs': {'batsman': 0, 'extras': 0, 'total': 0}}},\n",
        "    {0.3: {'batsman': 'WU Tharanga',\n",
        "      'bowler': 'AJ Turner',\n",
        "      'non_striker': 'N Dickwella',\n",
        "      'runs': {'batsman': 4, 'extras': 0, 'total': 4}}},\n",
        "    {0.4: {'batsman': 'WU Tharanga',\n",
        "      'bowler': 'AJ Turner',\n",
        "      'non_striker': 'N Dickwella',\n",
        "      'runs': {'batsman': 0, 'extras': 0, 'total': 0}}},\n",
        "    {0.5: {'batsman': 'WU Tharanga',\n",
        "      'bowler': 'AJ Turner',\n",
        "      'non_striker': 'N Dickwella',\n",
        "      'runs': {'batsman': 0, 'extras': 0, 'total': 0},\n",
        "      'wicket': {'fielders': ['JA Richardson'],\n",
        "       'kind': 'caught',\n",
        "       'player_out': 'WU Tharanga'}}},\n",
        "    {0.6: {'batsman': 'EMDY Munaweera',\n",
        "      'bowler': 'AJ Turner',\n",
        "      'non_striker': 'N Dickwella',\n",
        "      'runs': {'batsman': 0, 'extras': 0, 'total': 0}}},\n",
        "    {1.1: {'batsman': 'N Dickwella',\n",
        "      'bowler': 'PJ Cummins',\n",
        "      'non_striker': 'EMDY Munaweera',\n",
        "      'runs': {'batsman': 4, 'extras': 0, 'total': 4}}},\n",
        "    {1.2: {'batsman': 'N Dickwella',\n",
        "      'bowler': 'PJ Cummins',\n",
        "      'non_striker': 'EMDY Munaweera',\n",
        "      'runs': {'batsman': 0, 'extras': 0, 'total': 0}}},\n",
        "    {1.3: {'batsman': 'N Dickwella',\n",
        "      'bowler': 'PJ Cummins',\n",
        "      'non_striker': 'EMDY Munaweera',\n",
        "      'runs': {'batsman': 4, 'extras': 0, 'total': 4}}},\n",
        "    {1.4: {'batsman': 'N Dickwella',\n",
        "      'bowler': 'PJ Cummins',\n",
        "      'non_striker': 'EMDY Munaweera',\n",
        "      'runs': {'batsman': 4, 'extras': 0, 'total': 4}}},\n",
        "    {1.5: {'batsman': 'N Dickwella',\n",
        "      'bowler': 'PJ Cummins',\n",
        "      'non_striker': 'EMDY Munaweera',\n",
        "      'runs': {'batsman': 1, 'extras': 0, 'total': 1}}},\n",
        "    {1.6: {'batsman': 'EMDY Munaweera',\n",
        "      'bowler': 'PJ Cummins',\n",
        "      'non_striker': 'N Dickwella',\n",
        "      'runs': {'batsman': 4, 'extras': 0, 'total': 4}}},\n",
        "    {2.1: {'batsman': 'N Dickwella',\n",
        "      'bowler': 'JP Faulkner',\n",
        "      'non_striker': 'EMDY Munaweera',\n",
        "      'runs': {'batsman': 0, 'extras': 0, 'total': 0}}},\n",
        "    {2.2: {'batsman': 'N Dickwella',\n",
        "      'bowler': 'JP Faulkner',\n",
        "      'non_striker': 'EMDY Munaweera',\n",
        "      'runs': {'batsman': 0, 'extras': 0, 'total': 0},\n",
        "      'wicket': {'fielders': ['TD Paine'],\n",
        "       'kind': 'caught',\n",
        "       'player_out': 'N Dickwella'}}},\n",
        "    {2.3: {'batsman': 'BKG Mendis',\n",
        "      'bowler': 'JP Faulkner',\n",
        "      'non_striker': 'EMDY Munaweera',\n",
        "      'runs': {'batsman': 0, 'extras': 0, 'total': 0}}},\n",
        "    {2.4: {'batsman': 'BKG Mendis',\n",
        "      'bowler': 'JP Faulkner',\n",
        "      'non_striker': 'EMDY Munaweera',\n",
        "      'runs': {'batsman': 2, 'extras': 0, 'total': 2}}},\n",
        "    {2.5: {'batsman': 'BKG Mendis',\n",
        "      'bowler': 'JP Faulkner',\n",
        "      'non_striker': 'EMDY Munaweera',\n",
        "      'runs': {'batsman': 2, 'extras': 0, 'total': 2}}},\n",
        "    {2.6: {'batsman': 'BKG Mendis',\n",
        "      'bowler': 'JP Faulkner',\n",
        "      'non_striker': 'EMDY Munaweera',\n",
        "      'runs': {'batsman': 1, 'extras': 0, 'total': 1}}},\n",
        "    {3.1: {'batsman': 'BKG Mendis',\n",
        "      'bowler': 'JA Richardson',\n",
        "      'non_striker': 'EMDY Munaweera',\n",
        "      'runs': {'batsman': 0, 'extras': 0, 'total': 0}}},\n",
        "    {3.2: {'batsman': 'BKG Mendis',\n",
        "      'bowler': 'JA Richardson',\n",
        "      'non_striker': 'EMDY Munaweera',\n",
        "      'runs': {'batsman': 0, 'extras': 0, 'total': 0}}},\n",
        "    {3.3: {'batsman': 'BKG Mendis',\n",
        "      'bowler': 'JA Richardson',\n",
        "      'non_striker': 'EMDY Munaweera',\n",
        "      'runs': {'batsman': 0, 'extras': 0, 'total': 0},\n",
        "      'wicket': {'fielders': ['TD Paine'],\n",
        "       'kind': 'caught',\n",
        "       'player_out': 'BKG Mendis'}}},\n",
        "    {3.4: {'batsman': 'DAS Gunaratne',\n",
        "      'bowler': 'JA Richardson',\n",
        "      'non_striker': 'EMDY Munaweera',\n",
        "      'runs': {'batsman': 0, 'extras': 0, 'total': 0}}},\n",
        "    {3.5: {'batsman': 'DAS Gunaratne',\n",
        "      'bowler': 'JA Richardson',\n",
        "      'non_striker': 'EMDY Munaweera',\n",
        "      'runs': {'batsman': 2, 'extras': 0, 'total': 2}}},\n",
        "    {3.6: {'batsman': 'DAS Gunaratne',\n",
        "      'bowler': 'JA Richardson',\n",
        "      'non_striker': 'EMDY Munaweera',\n",
        "      'runs': {'batsman': 4, 'extras': 0, 'total': 4}}},\n",
        "    {4.1: {'batsman': 'EMDY Munaweera',\n",
        "      'bowler': 'AJ Tye',\n",
        "      'non_striker': 'DAS Gunaratne',\n",
        "      'runs': {'batsman': 6, 'extras': 0, 'total': 6}}},\n",
        "    {4.2: {'batsman': 'EMDY Munaweera',\n",
        "      'bowler': 'AJ Tye',\n",
        "      'extras': {'wides': 1},\n",
        "      'non_striker': 'DAS Gunaratne',\n",
        "      'runs': {'batsman': 0, 'extras': 1, 'total': 1}}},\n",
        "    {4.3: {'batsman': 'EMDY Munaweera',\n",
        "      'bowler': 'AJ Tye',\n",
        "      'non_striker': 'DAS Gunaratne',\n",
        "      'runs': {'batsman': 0, 'extras': 0, 'total': 0},\n",
        "      'wicket': {'fielders': ['TD Paine'],\n",
        "       'kind': 'caught',\n",
        "       'player_out': 'EMDY Munaweera'}}},\n",
        "    {4.4: {'batsman': 'TAM Siriwardana',\n",
        "      'bowler': 'AJ Tye',\n",
        "      'non_striker': 'DAS Gunaratne',\n",
        "      'runs': {'batsman': 0, 'extras': 0, 'total': 0},\n",
        "      'wicket': {'fielders': ['AJ Turner'],\n",
        "       'kind': 'caught',\n",
        "       'player_out': 'TAM Siriwardana'}}},\n",
        "    {4.5: {'batsman': 'CK Kapugedera',\n",
        "      'bowler': 'AJ Tye',\n",
        "      'non_striker': 'DAS Gunaratne',\n",
        "      'runs': {'batsman': 0, 'extras': 0, 'total': 0}}},\n",
        "    {4.6: {'batsman': 'CK Kapugedera',\n",
        "      'bowler': 'AJ Tye',\n",
        "      'non_striker': 'DAS Gunaratne',\n",
        "      'runs': {'batsman': 1, 'extras': 0, 'total': 1}}},\n",
        "    {4.7: {'batsman': 'DAS Gunaratne',\n",
        "      'bowler': 'AJ Tye',\n",
        "      'non_striker': 'CK Kapugedera',\n",
        "      'runs': {'batsman': 0, 'extras': 0, 'total': 0}}},\n",
        "    {5.1: {'batsman': 'CK Kapugedera',\n",
        "      'bowler': 'JA Richardson',\n",
        "      'non_striker': 'DAS Gunaratne',\n",
        "      'runs': {'batsman': 0, 'extras': 0, 'total': 0}}},\n",
        "    {5.2: {'batsman': 'CK Kapugedera',\n",
        "      'bowler': 'JA Richardson',\n",
        "      'non_striker': 'DAS Gunaratne',\n",
        "      'runs': {'batsman': 1, 'extras': 0, 'total': 1}}},\n",
        "    {5.3: {'batsman': 'DAS Gunaratne',\n",
        "      'bowler': 'JA Richardson',\n",
        "      'non_striker': 'CK Kapugedera',\n",
        "      'runs': {'batsman': 1, 'extras': 0, 'total': 1}}},\n",
        "    {5.4: {'batsman': 'CK Kapugedera',\n",
        "      'bowler': 'JA Richardson',\n",
        "      'non_striker': 'DAS Gunaratne',\n",
        "      'runs': {'batsman': 1, 'extras': 0, 'total': 1}}},\n",
        "    {5.5: {'batsman': 'DAS Gunaratne',\n",
        "      'bowler': 'JA Richardson',\n",
        "      'non_striker': 'CK Kapugedera',\n",
        "      'runs': {'batsman': 1, 'extras': 0, 'total': 1}}},\n",
        "    {5.6: {'batsman': 'CK Kapugedera',\n",
        "      'bowler': 'JA Richardson',\n",
        "      'non_striker': 'DAS Gunaratne',\n",
        "      'runs': {'batsman': 0, 'extras': 0, 'total': 0}}},\n",
        "    {6.1: {'batsman': 'DAS Gunaratne',\n",
        "      'bowler': 'MC Henriques',\n",
        "      'non_striker': 'CK Kapugedera',\n",
        "      'runs': {'batsman': 0, 'extras': 0, 'total': 0}}},\n",
        "    {6.2: {'batsman': 'DAS Gunaratne',\n",
        "      'bowler': 'MC Henriques',\n",
        "      'non_striker': 'CK Kapugedera',\n",
        "      'runs': {'batsman': 2, 'extras': 0, 'total': 2}}},\n",
        "    {6.3: {'batsman': 'DAS Gunaratne',\n",
        "      'bowler': 'MC Henriques',\n",
        "      'non_striker': 'CK Kapugedera',\n",
        "      'runs': {'batsman': 1, 'extras': 0, 'total': 1}}},\n",
        "    {6.4: {'batsman': 'CK Kapugedera',\n",
        "      'bowler': 'MC Henriques',\n",
        "      'non_striker': 'DAS Gunaratne',\n",
        "      'runs': {'batsman': 1, 'extras': 0, 'total': 1}}},\n",
        "    {6.5: {'batsman': 'DAS Gunaratne',\n",
        "      'bowler': 'MC Henriques',\n",
        "      'non_striker': 'CK Kapugedera',\n",
        "      'runs': {'batsman': 1, 'extras': 0, 'total': 1}}},\n",
        "    {6.6: {'batsman': 'CK Kapugedera',\n",
        "      'bowler': 'MC Henriques',\n",
        "      'non_striker': 'DAS Gunaratne',\n",
        "      'runs': {'batsman': 1, 'extras': 0, 'total': 1}}},\n",
        "    {7.1: {'batsman': 'CK Kapugedera',\n",
        "      'bowler': 'AJ Turner',\n",
        "      'non_striker': 'DAS Gunaratne',\n",
        "      'runs': {'batsman': 1, 'extras': 0, 'total': 1}}},\n",
        "    {7.2: {'batsman': 'DAS Gunaratne',\n",
        "      'bowler': 'AJ Turner',\n",
        "      'extras': {'legbyes': 1},\n",
        "      'non_striker': 'CK Kapugedera',\n",
        "      'runs': {'batsman': 0, 'extras': 1, 'total': 1}}},\n",
        "    {7.3: {'batsman': 'CK Kapugedera',\n",
        "      'bowler': 'AJ Turner',\n",
        "      'non_striker': 'DAS Gunaratne',\n",
        "      'runs': {'batsman': 4, 'extras': 0, 'total': 4}}},\n",
        "    {7.4: {'batsman': 'CK Kapugedera',\n",
        "      'bowler': 'AJ Turner',\n",
        "      'non_striker': 'DAS Gunaratne',\n",
        "      'runs': {'batsman': 0, 'extras': 0, 'total': 0}}},\n",
        "    {7.5: {'batsman': 'CK Kapugedera',\n",
        "      'bowler': 'AJ Turner',\n",
        "      'non_striker': 'DAS Gunaratne',\n",
        "      'runs': {'batsman': 4, 'extras': 0, 'total': 4}}},\n",
        "    {7.6: {'batsman': 'CK Kapugedera',\n",
        "      'bowler': 'AJ Turner',\n",
        "      'non_striker': 'DAS Gunaratne',\n",
        "      'runs': {'batsman': 1, 'extras': 0, 'total': 1}}},\n",
        "    {8.1: {'batsman': 'CK Kapugedera',\n",
        "      'bowler': 'PJ Cummins',\n",
        "      'non_striker': 'DAS Gunaratne',\n",
        "      'runs': {'batsman': 0, 'extras': 0, 'total': 0}}},\n",
        "    {8.2: {'batsman': 'CK Kapugedera',\n",
        "      'bowler': 'PJ Cummins',\n",
        "      'non_striker': 'DAS Gunaratne',\n",
        "      'runs': {'batsman': 1, 'extras': 0, 'total': 1}}},\n",
        "    {8.3: {'batsman': 'DAS Gunaratne',\n",
        "      'bowler': 'PJ Cummins',\n",
        "      'non_striker': 'CK Kapugedera',\n",
        "      'runs': {'batsman': 1, 'extras': 0, 'total': 1}}},\n",
        "    {8.4: {'batsman': 'CK Kapugedera',\n",
        "      'bowler': 'PJ Cummins',\n",
        "      'non_striker': 'DAS Gunaratne',\n",
        "      'runs': {'batsman': 1, 'extras': 0, 'total': 1}}},\n",
        "    {8.5: {'batsman': 'DAS Gunaratne',\n",
        "      'bowler': 'PJ Cummins',\n",
        "      'non_striker': 'CK Kapugedera',\n",
        "      'runs': {'batsman': 1, 'extras': 0, 'total': 1}}},\n",
        "    {8.6: {'batsman': 'CK Kapugedera',\n",
        "      'bowler': 'PJ Cummins',\n",
        "      'non_striker': 'DAS Gunaratne',\n",
        "      'runs': {'batsman': 0, 'extras': 0, 'total': 0}}},\n",
        "    {9.1: {'batsman': 'DAS Gunaratne',\n",
        "      'bowler': 'JP Faulkner',\n",
        "      'non_striker': 'CK Kapugedera',\n",
        "      'runs': {'batsman': 1, 'extras': 0, 'total': 1}}},\n",
        "    {9.2: {'batsman': 'CK Kapugedera',\n",
        "      'bowler': 'JP Faulkner',\n",
        "      'non_striker': 'DAS Gunaratne',\n",
        "      'runs': {'batsman': 4, 'extras': 0, 'total': 4}}},\n",
        "    {9.3: {'batsman': 'CK Kapugedera',\n",
        "      'bowler': 'JP Faulkner',\n",
        "      'non_striker': 'DAS Gunaratne',\n",
        "      'runs': {'batsman': 1, 'extras': 0, 'total': 1}}},\n",
        "    {9.4: {'batsman': 'DAS Gunaratne',\n",
        "      'bowler': 'JP Faulkner',\n",
        "      'non_striker': 'CK Kapugedera',\n",
        "      'runs': {'batsman': 1, 'extras': 0, 'total': 1}}},\n",
        "    {9.5: {'batsman': 'CK Kapugedera',\n",
        "      'bowler': 'JP Faulkner',\n",
        "      'non_striker': 'DAS Gunaratne',\n",
        "      'runs': {'batsman': 0, 'extras': 0, 'total': 0}}},\n",
        "    {9.6: {'batsman': 'CK Kapugedera',\n",
        "      'bowler': 'JP Faulkner',\n",
        "      'non_striker': 'DAS Gunaratne',\n",
        "      'runs': {'batsman': 1, 'extras': 0, 'total': 1}}},\n",
        "    {10.1: {'batsman': 'CK Kapugedera',\n",
        "      'bowler': 'AJ Tye',\n",
        "      'non_striker': 'DAS Gunaratne',\n",
        "      'runs': {'batsman': 0, 'extras': 0, 'total': 0}}},\n",
        "    {10.2: {'batsman': 'CK Kapugedera',\n",
        "      'bowler': 'AJ Tye',\n",
        "      'non_striker': 'DAS Gunaratne',\n",
        "      'runs': {'batsman': 2, 'extras': 0, 'total': 2}}},\n",
        "    {10.3: {'batsman': 'CK Kapugedera',\n",
        "      'bowler': 'AJ Tye',\n",
        "      'non_striker': 'DAS Gunaratne',\n",
        "      'runs': {'batsman': 0, 'extras': 0, 'total': 0}}},\n",
        "    {10.4: {'batsman': 'CK Kapugedera',\n",
        "      'bowler': 'AJ Tye',\n",
        "      'non_striker': 'DAS Gunaratne',\n",
        "      'runs': {'batsman': 1, 'extras': 0, 'total': 1}}},\n",
        "    {10.5: {'batsman': 'DAS Gunaratne',\n",
        "      'bowler': 'AJ Tye',\n",
        "      'non_striker': 'CK Kapugedera',\n",
        "      'runs': {'batsman': 4, 'extras': 0, 'total': 4}}},\n",
        "    {10.6: {'batsman': 'DAS Gunaratne',\n",
        "      'bowler': 'AJ Tye',\n",
        "      'non_striker': 'CK Kapugedera',\n",
        "      'runs': {'batsman': 2, 'extras': 0, 'total': 2}}},\n",
        "    {11.1: {'batsman': 'CK Kapugedera',\n",
        "      'bowler': 'MC Henriques',\n",
        "      'non_striker': 'DAS Gunaratne',\n",
        "      'runs': {'batsman': 1, 'extras': 0, 'total': 1}}},\n",
        "    {11.2: {'batsman': 'DAS Gunaratne',\n",
        "      'bowler': 'MC Henriques',\n",
        "      'non_striker': 'CK Kapugedera',\n",
        "      'runs': {'batsman': 1, 'extras': 0, 'total': 1}}},\n",
        "    {11.3: {'batsman': 'CK Kapugedera',\n",
        "      'bowler': 'MC Henriques',\n",
        "      'non_striker': 'DAS Gunaratne',\n",
        "      'runs': {'batsman': 0, 'extras': 0, 'total': 0}}},\n",
        "    {11.4: {'batsman': 'CK Kapugedera',\n",
        "      'bowler': 'MC Henriques',\n",
        "      'non_striker': 'DAS Gunaratne',\n",
        "      'runs': {'batsman': 0, 'extras': 0, 'total': 0}}},\n",
        "    {11.5: {'batsman': 'CK Kapugedera',\n",
        "      'bowler': 'MC Henriques',\n",
        "      'non_striker': 'DAS Gunaratne',\n",
        "      'runs': {'batsman': 1, 'extras': 0, 'total': 1}}},\n",
        "    {11.6: {'batsman': 'DAS Gunaratne',\n",
        "      'bowler': 'MC Henriques',\n",
        "      'non_striker': 'CK Kapugedera',\n",
        "      'runs': {'batsman': 2, 'extras': 0, 'total': 2}}},\n",
        "    {12.1: {'batsman': 'CK Kapugedera',\n",
        "      'bowler': 'PJ Cummins',\n",
        "      'non_striker': 'DAS Gunaratne',\n",
        "      'runs': {'batsman': 4, 'extras': 0, 'total': 4}}},\n",
        "    {12.2: {'batsman': 'CK Kapugedera',\n",
        "      'bowler': 'PJ Cummins',\n",
        "      'non_striker': 'DAS Gunaratne',\n",
        "      'runs': {'batsman': 0, 'extras': 0, 'total': 0}}},\n",
        "    {12.3: {'batsman': 'CK Kapugedera',\n",
        "      'bowler': 'PJ Cummins',\n",
        "      'non_striker': 'DAS Gunaratne',\n",
        "      'runs': {'batsman': 0, 'extras': 0, 'total': 0},\n",
        "      'wicket': {'fielders': ['BR Dunk'],\n",
        "       'kind': 'caught',\n",
        "       'player_out': 'CK Kapugedera'}}},\n",
        "    {12.4: {'batsman': 'DAS Gunaratne',\n",
        "      'bowler': 'PJ Cummins',\n",
        "      'non_striker': 'S Prasanna',\n",
        "      'runs': {'batsman': 0, 'extras': 0, 'total': 0}}},\n",
        "    {12.5: {'batsman': 'DAS Gunaratne',\n",
        "      'bowler': 'PJ Cummins',\n",
        "      'non_striker': 'S Prasanna',\n",
        "      'runs': {'batsman': 1, 'extras': 0, 'total': 1}}},\n",
        "    {12.6: {'batsman': 'S Prasanna',\n",
        "      'bowler': 'PJ Cummins',\n",
        "      'extras': {'wides': 1},\n",
        "      'non_striker': 'DAS Gunaratne',\n",
        "      'runs': {'batsman': 0, 'extras': 1, 'total': 1}}},\n",
        "    {12.7: {'batsman': 'S Prasanna',\n",
        "      'bowler': 'PJ Cummins',\n",
        "      'non_striker': 'DAS Gunaratne',\n",
        "      'runs': {'batsman': 1, 'extras': 0, 'total': 1}}},\n",
        "    {13.1: {'batsman': 'S Prasanna',\n",
        "      'bowler': 'JA Richardson',\n",
        "      'extras': {'legbyes': 1},\n",
        "      'non_striker': 'DAS Gunaratne',\n",
        "      'runs': {'batsman': 0, 'extras': 1, 'total': 1}}},\n",
        "    {13.2: {'batsman': 'DAS Gunaratne',\n",
        "      'bowler': 'JA Richardson',\n",
        "      'non_striker': 'S Prasanna',\n",
        "      'runs': {'batsman': 6, 'extras': 0, 'total': 6}}},\n",
        "    {13.3: {'batsman': 'DAS Gunaratne',\n",
        "      'bowler': 'JA Richardson',\n",
        "      'non_striker': 'S Prasanna',\n",
        "      'runs': {'batsman': 4, 'extras': 0, 'total': 4}}},\n",
        "    {13.4: {'batsman': 'DAS Gunaratne',\n",
        "      'bowler': 'JA Richardson',\n",
        "      'non_striker': 'S Prasanna',\n",
        "      'runs': {'batsman': 1, 'extras': 0, 'total': 1}}},\n",
        "    {13.5: {'batsman': 'S Prasanna',\n",
        "      'bowler': 'JA Richardson',\n",
        "      'non_striker': 'DAS Gunaratne',\n",
        "      'runs': {'batsman': 1, 'extras': 0, 'total': 1}}},\n",
        "    {13.6: {'batsman': 'DAS Gunaratne',\n",
        "      'bowler': 'JA Richardson',\n",
        "      'non_striker': 'S Prasanna',\n",
        "      'runs': {'batsman': 2, 'extras': 0, 'total': 2}}},\n",
        "    {14.1: {'batsman': 'S Prasanna',\n",
        "      'bowler': 'MC Henriques',\n",
        "      'non_striker': 'DAS Gunaratne',\n",
        "      'runs': {'batsman': 0, 'extras': 0, 'total': 0}}},\n",
        "    {14.2: {'batsman': 'S Prasanna',\n",
        "      'bowler': 'MC Henriques',\n",
        "      'non_striker': 'DAS Gunaratne',\n",
        "      'runs': {'batsman': 0, 'extras': 0, 'total': 0}}},\n",
        "    {14.3: {'batsman': 'S Prasanna',\n",
        "      'bowler': 'MC Henriques',\n",
        "      'extras': {'wides': 2},\n",
        "      'non_striker': 'DAS Gunaratne',\n",
        "      'runs': {'batsman': 0, 'extras': 2, 'total': 2}}},\n",
        "    {14.4: {'batsman': 'DAS Gunaratne',\n",
        "      'bowler': 'MC Henriques',\n",
        "      'non_striker': 'S Prasanna',\n",
        "      'runs': {'batsman': 0, 'extras': 0, 'total': 0}}},\n",
        "    {14.5: {'batsman': 'DAS Gunaratne',\n",
        "      'bowler': 'MC Henriques',\n",
        "      'non_striker': 'S Prasanna',\n",
        "      'runs': {'batsman': 1, 'extras': 0, 'total': 1}}},\n",
        "    {14.6: {'batsman': 'S Prasanna',\n",
        "      'bowler': 'MC Henriques',\n",
        "      'non_striker': 'DAS Gunaratne',\n",
        "      'runs': {'batsman': 0, 'extras': 0, 'total': 0}}},\n",
        "    {14.7: {'batsman': 'S Prasanna',\n",
        "      'bowler': 'MC Henriques',\n",
        "      'extras': {'wides': 1},\n",
        "      'non_striker': 'DAS Gunaratne',\n",
        "      'runs': {'batsman': 0, 'extras': 1, 'total': 1}}},\n",
        "    {14.8: {'batsman': 'S Prasanna',\n",
        "      'bowler': 'MC Henriques',\n",
        "      'non_striker': 'DAS Gunaratne',\n",
        "      'runs': {'batsman': 1, 'extras': 0, 'total': 1}}},\n",
        "    {15.1: {'batsman': 'S Prasanna',\n",
        "      'bowler': 'JP Faulkner',\n",
        "      'non_striker': 'DAS Gunaratne',\n",
        "      'runs': {'batsman': 4, 'extras': 0, 'total': 4}}},\n",
        "    {15.2: {'batsman': 'S Prasanna',\n",
        "      'bowler': 'JP Faulkner',\n",
        "      'non_striker': 'DAS Gunaratne',\n",
        "      'runs': {'batsman': 0, 'extras': 0, 'total': 0},\n",
        "      'wicket': {'fielders': ['TM Head'],\n",
        "       'kind': 'caught',\n",
        "       'player_out': 'S Prasanna'}}},\n",
        "    {15.3: {'batsman': 'DAS Gunaratne',\n",
        "      'bowler': 'JP Faulkner',\n",
        "      'non_striker': 'KMDN Kulasekara',\n",
        "      'runs': {'batsman': 0, 'extras': 0, 'total': 0}}},\n",
        "    {15.4: {'batsman': 'DAS Gunaratne',\n",
        "      'bowler': 'JP Faulkner',\n",
        "      'non_striker': 'KMDN Kulasekara',\n",
        "      'runs': {'batsman': 1, 'extras': 0, 'total': 1}}},\n",
        "    {15.5: {'batsman': 'KMDN Kulasekara',\n",
        "      'bowler': 'JP Faulkner',\n",
        "      'non_striker': 'DAS Gunaratne',\n",
        "      'runs': {'batsman': 1, 'extras': 0, 'total': 1}}},\n",
        "    {15.6: {'batsman': 'DAS Gunaratne',\n",
        "      'bowler': 'JP Faulkner',\n",
        "      'non_striker': 'KMDN Kulasekara',\n",
        "      'runs': {'batsman': 1, 'extras': 0, 'total': 1}}},\n",
        "    {16.1: {'batsman': 'DAS Gunaratne',\n",
        "      'bowler': 'AJ Tye',\n",
        "      'non_striker': 'KMDN Kulasekara',\n",
        "      'runs': {'batsman': 0, 'extras': 0, 'total': 0}}},\n",
        "    {16.2: {'batsman': 'DAS Gunaratne',\n",
        "      'bowler': 'AJ Tye',\n",
        "      'non_striker': 'KMDN Kulasekara',\n",
        "      'runs': {'batsman': 0, 'extras': 0, 'total': 0}}},\n",
        "    {16.3: {'batsman': 'DAS Gunaratne',\n",
        "      'bowler': 'AJ Tye',\n",
        "      'non_striker': 'KMDN Kulasekara',\n",
        "      'runs': {'batsman': 2, 'extras': 0, 'total': 2}}},\n",
        "    {16.4: {'batsman': 'DAS Gunaratne',\n",
        "      'bowler': 'AJ Tye',\n",
        "      'non_striker': 'KMDN Kulasekara',\n",
        "      'runs': {'batsman': 1, 'extras': 0, 'total': 1}}},\n",
        "    {16.5: {'batsman': 'KMDN Kulasekara',\n",
        "      'bowler': 'AJ Tye',\n",
        "      'non_striker': 'DAS Gunaratne',\n",
        "      'runs': {'batsman': 0, 'extras': 0, 'total': 0}}},\n",
        "    {16.6: {'batsman': 'KMDN Kulasekara',\n",
        "      'bowler': 'AJ Tye',\n",
        "      'non_striker': 'DAS Gunaratne',\n",
        "      'runs': {'batsman': 1, 'extras': 0, 'total': 1}}},\n",
        "    {17.1: {'batsman': 'KMDN Kulasekara',\n",
        "      'bowler': 'JP Faulkner',\n",
        "      'non_striker': 'DAS Gunaratne',\n",
        "      'runs': {'batsman': 1, 'extras': 0, 'total': 1}}},\n",
        "    {17.2: {'batsman': 'DAS Gunaratne',\n",
        "      'bowler': 'JP Faulkner',\n",
        "      'non_striker': 'KMDN Kulasekara',\n",
        "      'runs': {'batsman': 1, 'extras': 0, 'total': 1}}},\n",
        "    {17.3: {'batsman': 'KMDN Kulasekara',\n",
        "      'bowler': 'JP Faulkner',\n",
        "      'non_striker': 'DAS Gunaratne',\n",
        "      'runs': {'batsman': 4, 'extras': 0, 'total': 4}}},\n",
        "    {17.4: {'batsman': 'KMDN Kulasekara',\n",
        "      'bowler': 'JP Faulkner',\n",
        "      'non_striker': 'DAS Gunaratne',\n",
        "      'runs': {'batsman': 4, 'extras': 0, 'total': 4}}},\n",
        "    {17.5: {'batsman': 'KMDN Kulasekara',\n",
        "      'bowler': 'JP Faulkner',\n",
        "      'non_striker': 'DAS Gunaratne',\n",
        "      'runs': {'batsman': 1, 'extras': 0, 'total': 1}}},\n",
        "    {17.6: {'batsman': 'DAS Gunaratne',\n",
        "      'bowler': 'JP Faulkner',\n",
        "      'non_striker': 'KMDN Kulasekara',\n",
        "      'runs': {'batsman': 1, 'extras': 0, 'total': 1}}},\n",
        "    {18.1: {'batsman': 'DAS Gunaratne',\n",
        "      'bowler': 'MC Henriques',\n",
        "      'non_striker': 'KMDN Kulasekara',\n",
        "      'runs': {'batsman': 0, 'extras': 0, 'total': 0}}},\n",
        "    {18.2: {'batsman': 'DAS Gunaratne',\n",
        "      'bowler': 'MC Henriques',\n",
        "      'non_striker': 'KMDN Kulasekara',\n",
        "      'runs': {'batsman': 6, 'extras': 0, 'total': 6}}},\n",
        "    {18.3: {'batsman': 'DAS Gunaratne',\n",
        "      'bowler': 'MC Henriques',\n",
        "      'non_striker': 'KMDN Kulasekara',\n",
        "      'runs': {'batsman': 6, 'extras': 0, 'total': 6}}},\n",
        "    {18.4: {'batsman': 'DAS Gunaratne',\n",
        "      'bowler': 'MC Henriques',\n",
        "      'non_striker': 'KMDN Kulasekara',\n",
        "      'runs': {'batsman': 6, 'extras': 0, 'total': 6}}},\n",
        "    {18.5: {'batsman': 'DAS Gunaratne',\n",
        "      'bowler': 'MC Henriques',\n",
        "      'non_striker': 'KMDN Kulasekara',\n",
        "      'runs': {'batsman': 0, 'extras': 0, 'total': 0}}},\n",
        "    {18.6: {'batsman': 'DAS Gunaratne',\n",
        "      'bowler': 'MC Henriques',\n",
        "      'non_striker': 'KMDN Kulasekara',\n",
        "      'runs': {'batsman': 4, 'extras': 0, 'total': 4}}},\n",
        "    {19.1: {'batsman': 'KMDN Kulasekara',\n",
        "      'bowler': 'AJ Tye',\n",
        "      'non_striker': 'DAS Gunaratne',\n",
        "      'runs': {'batsman': 0, 'extras': 0, 'total': 0},\n",
        "      'wicket': {'fielders': ['M Klinger'],\n",
        "       'kind': 'caught',\n",
        "       'player_out': 'KMDN Kulasekara'}}},\n",
        "    {19.2: {'batsman': 'DAS Gunaratne',\n",
        "      'bowler': 'AJ Tye',\n",
        "      'non_striker': 'SL Malinga',\n",
        "      'runs': {'batsman': 4, 'extras': 0, 'total': 4}}},\n",
        "    {19.3: {'batsman': 'DAS Gunaratne',\n",
        "      'bowler': 'AJ Tye',\n",
        "      'non_striker': 'SL Malinga',\n",
        "      'runs': {'batsman': 6, 'extras': 0, 'total': 6}}},\n",
        "    {19.4: {'batsman': 'DAS Gunaratne',\n",
        "      'bowler': 'AJ Tye',\n",
        "      'non_striker': 'SL Malinga',\n",
        "      'runs': {'batsman': 1, 'extras': 0, 'total': 1}}},\n",
        "    {19.5: {'batsman': 'SL Malinga',\n",
        "      'bowler': 'AJ Tye',\n",
        "      'non_striker': 'DAS Gunaratne',\n",
        "      'runs': {'batsman': 1, 'extras': 0, 'total': 1}}},\n",
        "    {19.6: {'batsman': 'DAS Gunaratne',\n",
        "      'bowler': 'AJ Tye',\n",
        "      'non_striker': 'SL Malinga',\n",
        "      'runs': {'batsman': 4, 'extras': 0, 'total': 4}}}],\n",
        "   'team': 'Sri Lanka'}}]"
      ],
      "metadata": {
        "id": "OpdEy__JHVF4"
      },
      "execution_count": null,
      "outputs": []
    },
    {
      "cell_type": "code",
      "source": [
        "def climbingLeaderboard(ranked, player):\n",
        "    # Write your code here\n",
        "    single=[]\n",
        "    result=[]\n",
        "    for i in range(len(ranked)-1):\n",
        "        if ranked[i]!=ranked[i+1]:\n",
        "            single.append(ranked[i])\n",
        "    single.append(ranked[-1])\n",
        "    arr=single\n",
        "    for ele in player:\n",
        "        m=len(single)//2\n",
        "        if ele>=single[0]:\n",
        "            result.append(1)\n",
        "        elif ele<single[-1]:\n",
        "            result.append(len(single)+1)\n",
        "        else:\n",
        "            while(len(single)):\n",
        "                if single[-1]==ele:\n",
        "                    result.append(len(single))\n",
        "                    single.pop()\n",
        "                    break\n",
        "                elif ele>single[-1]:\n",
        "                    single.pop()\n",
        "                elif ele<single[-1]:\n",
        "                    result.append(len(single)+1)\n",
        "                    break\n",
        "    return result\n"
      ],
      "metadata": {
        "id": "0Pn4q1i9HM8O"
      },
      "execution_count": null,
      "outputs": []
    },
    {
      "cell_type": "code",
      "source": [
        "#Cube of fibonacci series using map() and lambda\n",
        "cube = lambda x:int(x**3)\n",
        "\n",
        "def fibonacci(n):\n",
        "    # return a list of fibonacci numbers\n",
        "    list_=[0,1]\n",
        "    if n==0:\n",
        "        return []\n",
        "    if n==1:\n",
        "        return [0]\n",
        "    elif n==2:\n",
        "        return list_\n",
        "    for i in range(n-2):\n",
        "        list_.append(list_[i]+list_[i+1])\n",
        "    return list_\n",
        "fib=fibonacci(5)\n",
        "list_=map(cube,fib)\n",
        "print(list(list_))\n"
      ],
      "metadata": {
        "id": "KCjaP870Hbed",
        "outputId": "8ed5cc99-7fa2-4fa4-a8a5-3515e039e529",
        "colab": {
          "base_uri": "https://localhost:8080/"
        }
      },
      "execution_count": 20,
      "outputs": [
        {
          "output_type": "stream",
          "name": "stdout",
          "text": [
            "[0, 1, 1, 8, 27]\n"
          ]
        }
      ]
    },
    {
      "cell_type": "code",
      "source": [
        "def finding_captain(k,list_):\n",
        "    num_of_groups=(len(list_)-1)//k\n",
        "    all_rooms=set(list_)\n",
        "    temp=sorted(list_)\n",
        "    for ele in temp[::k]:\n",
        "        temp.remove(ele)\n",
        "    temp2=set(temp)\n",
        "    print(list(all_rooms.symmetric_difference(temp2))[0])"
      ],
      "metadata": {
        "id": "OFudZffxGvYP"
      },
      "execution_count": 11,
      "outputs": []
    },
    {
      "cell_type": "code",
      "source": [
        "finding_captain(5,[1,2,3,6,5,4,4,2,5,3,6,1,6,5,3,2,4,1,2,5,1,4,3,6,8,4,3,1,5,6,2])"
      ],
      "metadata": {
        "id": "Br9hPL5fOc3G",
        "outputId": "13b78477-ddd6-435a-cca3-63816bc1bc63",
        "colab": {
          "base_uri": "https://localhost:8080/"
        }
      },
      "execution_count": 12,
      "outputs": [
        {
          "output_type": "stream",
          "name": "stdout",
          "text": [
            "8\n"
          ]
        }
      ]
    },
    {
      "cell_type": "markdown",
      "source": [
        "second Approach"
      ],
      "metadata": {
        "id": "rqZHTRvplBoI"
      }
    },
    {
      "cell_type": "code",
      "source": [
        "K=int(input())\n",
        "list_=input().split()\n",
        "def finding_captain(K,list_):\n",
        "    s=set()\n",
        "    t=set()\n",
        "    for ele in list_:\n",
        "        if ele not in s:\n",
        "            s.add(ele)\n",
        "            t.add(ele)\n",
        "        else:\n",
        "            t.discard(ele)\n",
        "    print(t.pop())        \n",
        "finding_captain(K,list_)"
      ],
      "metadata": {
        "id": "YBl_1KxUk89R"
      },
      "execution_count": null,
      "outputs": []
    }
  ]
}